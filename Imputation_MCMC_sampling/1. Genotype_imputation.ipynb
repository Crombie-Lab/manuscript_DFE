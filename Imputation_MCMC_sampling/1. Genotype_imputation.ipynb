{
 "cells": [
  {
   "cell_type": "code",
   "execution_count": 3,
   "id": "72b844eb-ddf9-4c99-8866-f10ce5a8673c",
   "metadata": {
    "tags": []
   },
   "outputs": [],
   "source": [
    "import matplotlib.pyplot as plt\n",
    "\n",
    "import pandas as pd\n",
    "import numpy as np\n",
    "import matplotlib.pyplot as plt\n",
    "from scipy import sparse\n",
    "import pickle\n",
    "from sklearn.metrics import accuracy_score\n",
    "import csv"
   ]
  },
  {
   "cell_type": "code",
   "execution_count": 4,
   "id": "8e4cd148-24e5-4f97-bca2-f45a56fa062d",
   "metadata": {
    "tags": []
   },
   "outputs": [],
   "source": [
    "# Define transformer model\n",
    "\n",
    "import math\n",
    "import os\n",
    "from tempfile import TemporaryDirectory\n",
    "from typing import Tuple\n",
    "\n",
    "import torch\n",
    "from torch import nn, Tensor\n",
    "from torch.nn import TransformerEncoder, TransformerEncoderLayer\n",
    "from torch.utils.data import dataset\n",
    "\n",
    "class TransformerModel(nn.Module):\n",
    "\n",
    "    def __init__(self, ntoken: int, d_model: int, nhead: int, d_hid: int,\n",
    "                 nlayers: int, dropout: float = 0.5):\n",
    "        super().__init__()\n",
    "        self.model_type = 'Transformer'\n",
    "        self.pos_encoder = PositionalEncoding(d_model, dropout)\n",
    "        encoder_layers = TransformerEncoderLayer(d_model, nhead, d_hid, dropout)\n",
    "        self.transformer_encoder = TransformerEncoder(encoder_layers, nlayers)\n",
    "        self.embedding = nn.Embedding(ntoken, d_model)\n",
    "        self.d_model = d_model\n",
    "        self.linear = nn.Linear(d_model, ntoken)\n",
    "\n",
    "        self.init_weights()\n",
    "\n",
    "    def init_weights(self) -> None:\n",
    "        initrange = 0.1\n",
    "        self.embedding.weight.data.uniform_(-initrange, initrange)\n",
    "        self.linear.bias.data.zero_()\n",
    "        self.linear.weight.data.uniform_(-initrange, initrange)\n",
    "\n",
    "    def forward(self, src: Tensor, src_mask: Tensor = None, src_key_padding_mask: Tensor = None) -> Tensor:\n",
    "        \"\"\"\n",
    "        Arguments:\n",
    "            src: Tensor, shape ``[seq_len, batch_size]``\n",
    "            src_mask: Tensor, shape ``[seq_len, seq_len]``\n",
    "\n",
    "        Returns:\n",
    "            output Tensor of shape ``[seq_len, batch_size, ntoken]``\n",
    "        \"\"\"\n",
    "        src = self.embedding(src) * math.sqrt(self.d_model)\n",
    "        src = self.pos_encoder(src)\n",
    "        output = self.transformer_encoder(src, src_mask, src_key_padding_mask=src_key_padding_mask)\n",
    "        output = self.linear(output)\n",
    "        return output\n",
    "\n",
    "class PositionalEncoding(nn.Module):\n",
    "\n",
    "    def __init__(self, d_model: int, dropout: float = 0.1, max_len: int = 5000):\n",
    "        super().__init__()\n",
    "        self.dropout = nn.Dropout(p=dropout)\n",
    "\n",
    "        position = torch.arange(max_len).unsqueeze(1)\n",
    "        div_term = torch.exp(torch.arange(0, d_model, 2) * (-math.log(10000.0) / d_model))\n",
    "        pe = torch.zeros(max_len, 1, d_model)\n",
    "        pe[:, 0, 0::2] = torch.sin(position * div_term)\n",
    "        pe[:, 0, 1::2] = torch.cos(position * div_term)\n",
    "        self.register_buffer('pe', pe)\n",
    "\n",
    "    def forward(self, x: Tensor) -> Tensor:\n",
    "        \"\"\"\n",
    "        Arguments:\n",
    "            x: Tensor, shape ``[seq_len, batch_size, embedding_dim]``\n",
    "        \"\"\"\n",
    "        x = x + self.pe[:x.size(0)]\n",
    "        return self.dropout(x)\n",
    "    \n",
    "device = torch.device('cuda' if torch.cuda.is_available() else 'cpu')"
   ]
  },
  {
   "cell_type": "markdown",
   "id": "c77349f5-045e-4ef6-a3f0-cb8a95c11bfa",
   "metadata": {
    "tags": []
   },
   "source": [
    "### Read data"
   ]
  },
  {
   "cell_type": "code",
   "execution_count": 9,
   "id": "140f49ed-b4f7-4988-9474-e2fc10b4b2ad",
   "metadata": {
    "tags": []
   },
   "outputs": [],
   "source": [
    "# load unmodified genotype file\n",
    "geno_data_full = pd.read_csv(\"Data/02_DFE_unimputed_genotypes.csv\")\n",
    "geno_data = geno_data_full.iloc[:, 4:].T\n",
    "geno_ = geno_data.to_numpy()\n",
    "\n",
    "line_names = pd.Series(geno_data_full.columns[4:])\n",
    "\n",
    "line_names = line_names[np.sum(np.isnan(geno_), 1) != 169]\n",
    "geno_ = geno_[np.sum(np.isnan(geno_), 1) != 169]"
   ]
  },
  {
   "cell_type": "markdown",
   "id": "480ab97c-0a73-4391-8c7f-2e59f955ad9d",
   "metadata": {},
   "source": [
    "### Train models"
   ]
  },
  {
   "cell_type": "code",
   "execution_count": 10,
   "id": "648ac80d-7018-40f9-8666-669329e873e3",
   "metadata": {
    "tags": []
   },
   "outputs": [],
   "source": [
    "import torch\n",
    "import torch.nn as nn\n",
    "import torch.optim as optim\n",
    "\n",
    "ntokens = 2  # size of vocabulary\n",
    "emsize = 200  # embedding dimension\n",
    "d_hid = 32  # dimension of the feedforward network model in ``nn.TransformerEncoder``\n",
    "nlayers = 4  # number of ``nn.TransformerEncoderLayer`` in ``nn.TransformerEncoder``\n",
    "nhead = 1  # number of heads in ``nn.MultiheadAttention``\n",
    "dropout = 0.1  # dropout probability\n",
    "criterion = nn.CrossEntropyLoss()"
   ]
  },
  {
   "cell_type": "code",
   "execution_count": 96,
   "id": "86ea0b5a-78af-4712-9682-0c67a642f3a3",
   "metadata": {
    "tags": []
   },
   "outputs": [
    {
     "name": "stdout",
     "output_type": "stream",
     "text": [
      "Epoch 1/3000, Loss: 0.8459080457687378\n",
      "Epoch 101/3000, Loss: 0.6962880492210388\n",
      "Epoch 201/3000, Loss: 0.6953751444816589\n",
      "Epoch 301/3000, Loss: 0.6943534016609192\n",
      "Epoch 401/3000, Loss: 0.6935312151908875\n",
      "Epoch 501/3000, Loss: 0.6904879212379456\n",
      "Epoch 601/3000, Loss: 0.6394132375717163\n",
      "Epoch 701/3000, Loss: 0.6011759042739868\n",
      "Epoch 801/3000, Loss: 0.563908040523529\n",
      "Epoch 901/3000, Loss: 0.5435827970504761\n",
      "Epoch 1001/3000, Loss: 0.5176733732223511\n",
      "Epoch 1101/3000, Loss: 0.48295724391937256\n",
      "Epoch 1201/3000, Loss: 0.434949666261673\n",
      "Epoch 1301/3000, Loss: 0.41956937313079834\n",
      "Epoch 1401/3000, Loss: 0.40220218896865845\n",
      "Epoch 1501/3000, Loss: 0.3733724057674408\n",
      "Epoch 1601/3000, Loss: 0.36602357029914856\n",
      "Epoch 1701/3000, Loss: 0.3564711809158325\n",
      "Epoch 1801/3000, Loss: 0.3401802182197571\n",
      "Epoch 1901/3000, Loss: 0.32337939739227295\n",
      "Epoch 2001/3000, Loss: 0.32222169637680054\n",
      "Epoch 2101/3000, Loss: 0.324784517288208\n",
      "Epoch 2201/3000, Loss: 0.3105078637599945\n",
      "Epoch 2301/3000, Loss: 0.29378262162208557\n",
      "Epoch 2401/3000, Loss: 0.2962246537208557\n",
      "Epoch 2501/3000, Loss: 0.2908147871494293\n",
      "Epoch 2601/3000, Loss: 0.28552383184432983\n",
      "Epoch 2701/3000, Loss: 0.29268452525138855\n",
      "Epoch 2801/3000, Loss: 0.2866705656051636\n",
      "Epoch 2901/3000, Loss: 0.28903523087501526\n"
     ]
    }
   ],
   "source": [
    "n, L = geno.shape\n",
    "geno_train = torch.tensor(geno_).long().to(device).T\n",
    "nan_indices = (geno_train == -9223372036854775808) # get positions with Nan\n",
    "\n",
    "model = TransformerModel(ntokens, emsize, nhead, d_hid, nlayers, dropout).to(device)\n",
    "optimizer = optim.Adam(model.parameters(), lr=0.001)\n",
    "\n",
    "# Training loop\n",
    "num_epochs = 3000\n",
    "for epoch in range(num_epochs):\n",
    "    optimizer.zero_grad()\n",
    "\n",
    "    X_train = geno_train.clone()    \n",
    "    mask_indices = ((torch.rand(X_train.shape) < 0.15).to(device)) # generate mask positions\n",
    "    keep = X_train[mask_indices] != -9223372036854775808 # get positions used for backpropogation\n",
    "    X_train[mask_indices] = torch.randint(2, (mask_indices.sum().item(), )).to(device) # Replace chosen positions with random 0/1\n",
    "\n",
    "    # Forward pass\n",
    "    logits = model(X_train, src_key_padding_mask=nan_indices.T)\n",
    "\n",
    "    # Compute loss\n",
    "    loss = criterion(logits[mask_indices][keep], geno_train[mask_indices][keep])\n",
    "\n",
    "    # Backpropagation\n",
    "    loss.backward()\n",
    "    optimizer.step()\n",
    "\n",
    "    if epoch%100 == 0:\n",
    "        # Print loss\n",
    "        print(f\"Epoch {epoch+1}/{num_epochs}, Loss: {loss.item()}\")"
   ]
  },
  {
   "cell_type": "markdown",
   "id": "5d31a9c2-6eb8-4056-afd5-e74706289e30",
   "metadata": {},
   "source": [
    "### Prediction"
   ]
  },
  {
   "cell_type": "code",
   "execution_count": 105,
   "id": "2b6aee3b-ec28-441a-9086-9a09ee71edea",
   "metadata": {
    "tags": []
   },
   "outputs": [],
   "source": [
    "model.eval()\n",
    "logits = model(geno_train, src_key_padding_mask=nan_indices.T)\n",
    "p_tensor = torch.nn.Softmax(dim=-1)(-logits).transpose(0, 1)[:, :, 0]"
   ]
  },
  {
   "cell_type": "code",
   "execution_count": 135,
   "id": "f81a378e-c68b-4918-85f5-f288039a877f",
   "metadata": {
    "tags": []
   },
   "outputs": [
    {
     "data": {
      "image/png": "[encoded data removed]",
      "text/plain": [
       "<Figure size 432x288 with 1 Axes>"
      ]
     },
     "metadata": {
      "needs_background": "light"
     },
     "output_type": "display_data"
    },
    {
     "data": {
      "image/png": "[encoded data removed]",
      "text/plain": [
       "<Figure size 432x288 with 1 Axes>"
      ]
     },
     "metadata": {
      "needs_background": "light"
     },
     "output_type": "display_data"
    }
   ],
   "source": [
    "# Histograms of probabilities for 0 or 1 alleles\n",
    "\n",
    "plt.hist(p_tensor[~nan_indices.T][geno_train.T[~nan_indices.T] == 1].cpu().detach().numpy())\n",
    "plt.show()\n",
    "\n",
    "plt.hist(p_tensor[~nan_indices.T][geno_train.T[~nan_indices.T] == 0].cpu().detach().numpy())\n",
    "plt.show()"
   ]
  },
  {
   "cell_type": "code",
   "execution_count": 154,
   "id": "2b387136-b843-4de9-8b67-7250e85a8edb",
   "metadata": {
    "tags": []
   },
   "outputs": [
    {
     "data": {
      "image/png": "[encoded data removed]",
      "text/plain": [
       "<Figure size 432x288 with 1 Axes>"
      ]
     },
     "metadata": {
      "needs_background": "light"
     },
     "output_type": "display_data"
    }
   ],
   "source": [
    "# This is the tensor for sampling genotypes\n",
    "S_tensor = torch.clone(geno_train.T).float()\n",
    "\n",
    "S_tensor[nan_indices.T] = p_tensor[nan_indices.T]\n",
    "\n",
    "# Histogram of probability for nan positions\n",
    "plt.hist(S_tensor[nan_indices.T].cpu().detach().numpy())\n",
    "plt.show()"
   ]
  },
  {
   "cell_type": "code",
   "execution_count": 160,
   "id": "074851be-77bb-4aad-beb8-0ef5d2227696",
   "metadata": {
    "tags": []
   },
   "outputs": [],
   "source": [
    "# Export predicted genotype probabilities\n",
    "pd.DataFrame(S_tensor.detach().cpu().numpy(), index=line_names).to_csv(\"Data/Sampling_tensor.csv\", header=None)"
   ]
  }
 ],
 "metadata": {
  "kernelspec": {
   "display_name": "fastai-2.7.10",
   "language": "python",
   "name": "fastai-2.7.10"
  },
  "language_info": {
   "codemirror_mode": {
    "name": "ipython",
    "version": 3
   },
   "file_extension": ".py",
   "mimetype": "text/x-python",
   "name": "python",
   "nbconvert_exporter": "python",
   "pygments_lexer": "ipython3",
   "version": "3.10.4"
  }
 },
 "nbformat": 4,
 "nbformat_minor": 5
}
