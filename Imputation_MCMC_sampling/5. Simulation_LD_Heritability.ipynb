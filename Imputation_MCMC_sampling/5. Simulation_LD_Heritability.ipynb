{
 "cells": [
  {
   "cell_type": "code",
   "execution_count": 1,
   "id": "e73de506-ca85-4085-932f-5fe064c36524",
   "metadata": {
    "tags": []
   },
   "outputs": [
    {
     "name": "stderr",
     "output_type": "stream",
     "text": [
      "WARNING (pytensor.tensor.blas): Using NumPy C-API based implementation for BLAS functions.\n"
     ]
    },
    {
     "name": "stdout",
     "output_type": "stream",
     "text": [
      "Running on PyMC v5.6.0\n"
     ]
    }
   ],
   "source": [
    "import pandas as pd\n",
    "import numpy as np\n",
    "import matplotlib.pyplot as plt\n",
    "from scipy import sparse\n",
    "import pickle\n",
    "\n",
    "import arviz as az\n",
    "import matplotlib.pyplot as plt\n",
    "import numpy as np\n",
    "import pandas as pd\n",
    "import pymc as pm\n",
    "import xarray as xr\n",
    "import pickle\n",
    "from pymc import HalfCauchy, Model, Normal, sample\n",
    "print(f\"Running on PyMC v{pm.__version__}\")\n",
    "\n",
    "from scipy.stats import pearsonr"
   ]
  },
  {
   "cell_type": "code",
   "execution_count": 2,
   "id": "1d7231be-7235-42ab-9ef8-f54f00bd7bc1",
   "metadata": {
    "tags": []
   },
   "outputs": [
    {
     "name": "stdout",
     "output_type": "stream",
     "text": [
      "(3030, 176)\n",
      "(2757, 176)\n"
     ]
    }
   ],
   "source": [
    "data_all = pd.read_csv(\"Data/10pctimpx_forJZ.csv\")\n",
    "\n",
    "S_tensor = pd.read_csv(\"Data/Sampling_tensor.csv\", index_col=0, header=None)\n",
    "line_names = pd.Series(S_tensor.index)\n",
    "\n",
    "data = pd.read_csv(\"Data/10pctimpx_forJZ.csv\")\n",
    "print(data.shape)\n",
    "data = data[np.array(data['LineType'] == \"G0\")  | np.array(data['LineType'] == \"RIL\") | np.array(data['LineType'] == \"RIAIL\")]\n",
    "print(data.shape)\n",
    "num_nas = np.isnan(data.iloc[:, 7:].to_numpy()).sum(1)\n",
    "data = data[num_nas < 169] # filter all lines without genotype info\n",
    "geno_all = data.iloc[:, 7:].to_numpy()\n",
    "n, L = geno_all.shape"
   ]
  },
  {
   "cell_type": "code",
   "execution_count": 3,
   "id": "4e3a356d-d283-43a9-9775-a5af93a01efd",
   "metadata": {
    "tags": []
   },
   "outputs": [
    {
     "data": {
      "text/plain": [
       "{'MA530', 'MA563'}"
      ]
     },
     "execution_count": 3,
     "metadata": {},
     "output_type": "execute_result"
    }
   ],
   "source": [
    "par_dict = dict(zip(['G0', 'P530', 'P563'], line_names[:3]))\n",
    "\n",
    "Line_new = []\n",
    "for row in range(data.shape[0]):\n",
    "    linetype = data.iloc[row].LineType\n",
    "    line_num = data.iloc[row]['Linex']\n",
    "    if (linetype != \"RIL\")  and (linetype != \"RIAIL\" ):\n",
    "        Line_new.append(par_dict[linetype])\n",
    "    else:\n",
    "        if linetype == \"RIL\":\n",
    "            Line_new.append(linetype + \"_\" + str(line_num - 200))\n",
    "        else: Line_new.append(linetype + \"_\" + str(line_num))\n",
    "data.Linex = Line_new\n",
    "\n",
    "set(line_names).difference(set(data.Linex.unique())) ## Line names are the same in the genotype file and phenotype file"
   ]
  },
  {
   "cell_type": "code",
   "execution_count": 4,
   "id": "3959002f-01ee-456f-b978-b160db762303",
   "metadata": {
    "tags": []
   },
   "outputs": [
    {
     "data": {
      "image/png": "[encoded data removed]",
      "text/plain": [
       "<Figure size 432x288 with 1 Axes>"
      ]
     },
     "metadata": {
      "needs_background": "light"
     },
     "output_type": "display_data"
    }
   ],
   "source": [
    "from scipy.sparse import coo_matrix\n",
    "# Generate A matrix for mapping geno to geno_expand\n",
    "line2num = dict(zip(line_names, range(len(line_names))))\n",
    "row_idx, col_idx = np.arange(len(data)), np.array([line2num[line] for line in data.Linex])\n",
    "A = coo_matrix((np.ones(len(row_idx)), (row_idx, col_idx)))\n",
    "# Turn block to dummy variables\n",
    "data.block = data.block.astype(\"str\")\n",
    "block = pd.get_dummies(data.block).to_numpy()\n",
    "\n",
    "y = data.ln_ci\n",
    "y.hist()\n",
    "plt.show()"
   ]
  },
  {
   "cell_type": "markdown",
   "id": "085696a0-c4e4-461a-b836-27e147732361",
   "metadata": {
    "tags": []
   },
   "source": [
    "### Simulate data"
   ]
  },
  {
   "cell_type": "code",
   "execution_count": 23,
   "id": "a23f3f85-4cc4-4195-ab6a-2af38272d2b7",
   "metadata": {
    "tags": []
   },
   "outputs": [],
   "source": [
    "import os\n",
    "\n",
    "directory = \"LD_h2_simulation\"\n",
    "\n",
    "# Create the directory if it does not exist\n",
    "os.makedirs(directory, exist_ok=True)"
   ]
  },
  {
   "cell_type": "markdown",
   "id": "e6afa070-e2a1-4ed3-aa52-4835ac118355",
   "metadata": {},
   "source": [
    "#### Asymmetric gamma"
   ]
  },
  {
   "cell_type": "code",
   "execution_count": 12,
   "id": "819b17e3-7032-41e9-a8e1-5caa4b66dd80",
   "metadata": {
    "tags": []
   },
   "outputs": [],
   "source": [
    "def sample_mut():\n",
    "    mut_pos = np.random.gamma(shape=alpha_pos, scale=1/beta_pos, size=L)\n",
    "    mut_neg = -1 * np.random.gamma(shape=alpha_neg, scale=1/beta_neg, size=L)\n",
    "    M = np.stack([mut_neg, mut_pos]).T\n",
    "    In = np.eye(2)[np.random.binomial(n=1, p=p_pos, size=L)]\n",
    "    mut = (M*In).sum(1)    \n",
    "    return mut"
   ]
  },
  {
   "cell_type": "code",
   "execution_count": 13,
   "id": "a1ef9077-d784-478c-9fbb-06b875f8056a",
   "metadata": {
    "tags": []
   },
   "outputs": [],
   "source": [
    "def permute_rows_individually(array):\n",
    "    permuted_array = np.empty_like(array)\n",
    "    for i in range(array.shape[0]):\n",
    "        permuted_array[i] = np.random.permutation(array[i])\n",
    "    return permuted_array"
   ]
  },
  {
   "cell_type": "code",
   "execution_count": 14,
   "id": "ea787ac5-dd3d-4c05-9e6d-0c4700433725",
   "metadata": {
    "tags": []
   },
   "outputs": [],
   "source": [
    "p_pos = 0.5014388319648195\n",
    "\n",
    "alpha_pos, beta_pos = 0.66625288920606, 15.711950660777102\n",
    "\n",
    "alpha_neg, beta_neg = 0.8529779320558907, 14.938469551412519\n",
    "\n",
    "std = 0.9812639423060024"
   ]
  },
  {
   "cell_type": "code",
   "execution_count": 15,
   "id": "bc3fb6b9-2e3c-4b41-b60b-4e18e81d218e",
   "metadata": {
    "tags": []
   },
   "outputs": [],
   "source": [
    "# only simulated based on the RILs\n",
    "\n",
    "S_RIL = S_tensor[['RIL' in ID for ID in S_tensor.index]]\n",
    "\n",
    "A_RIL = A.toarray()[np.where(['RIL' in id for id in data.Linex])[0]][:, np.where(['RIL' in id for id in line2num.keys()])[0]]\n",
    "\n",
    "G_RIL = np.round(S_RIL).to_numpy()\n",
    "\n",
    "n_RILs = A_RIL.shape[0]\n",
    "\n",
    "line_RILs = list(data.Linex[-n_RILs:])\n",
    "reps = [np.sum([l == line_RILs[i] for l in line_RILs[:i + 1]]) for i in range(n_RILs)]"
   ]
  },
  {
   "cell_type": "markdown",
   "id": "a64070ea-f1a0-4e6d-b49b-433b7d187780",
   "metadata": {
    "tags": []
   },
   "source": [
    "##### Unpaired data"
   ]
  },
  {
   "cell_type": "code",
   "execution_count": 10,
   "id": "b723923e-62b5-4f7a-9c53-c312eb58bf50",
   "metadata": {
    "tags": []
   },
   "outputs": [],
   "source": [
    "for i in range(100):\n",
    "\n",
    "    G_perm = permute_rows_individually(G_RIL)\n",
    "    mut = sample_mut()\n",
    "    g = np.matmul(G_perm, mut)\n",
    "    \n",
    "    G_ex = np.matmul(A_RIL, G_perm)\n",
    "    g_ex = np.matmul(A_RIL, g)\n",
    "    \n",
    "    noise = np.random.normal(loc=0, scale=std, size=len(G_ex))\n",
    "    y = g_ex + noise\n",
    "\n",
    "    dat = np.append(G_ex, np.expand_dims(y, 1), axis=1)\n",
    "\n",
    "    dat = pd.DataFrame(dat)\n",
    "\n",
    "    dat.columns = ['x' + str(locus) for locus in list(S_RIL.columns)] + ['y']\n",
    "    \n",
    "    dat.insert(0, 'Line', line_RILs)  # Insert at position 0 (leftmost)\n",
    "    dat.insert(1, 'Replicate', reps)  # Insert at position 0 (leftmost)    \n",
    "\n",
    "    dat.to_csv(f\"LD_h2_simulation/permuted_genotypes_sample_{i}.csv\", index=None)"
   ]
  },
  {
   "cell_type": "code",
   "execution_count": 11,
   "id": "1dd06768-ce08-48db-a823-e3972a381b99",
   "metadata": {
    "tags": []
   },
   "outputs": [],
   "source": [
    "for i in range(100):\n",
    "\n",
    "    G_perm = G_RIL\n",
    "    mut = sample_mut()\n",
    "    g = np.matmul(G_perm, mut)\n",
    "    \n",
    "    G_ex = np.matmul(A_RIL, G_perm)\n",
    "    g_ex = np.matmul(A_RIL, g)\n",
    "    \n",
    "    noise = np.random.normal(loc=0, scale=std, size=len(G_ex))\n",
    "    y = g_ex + noise\n",
    "\n",
    "    dat = np.append(G_ex, np.expand_dims(y, 1), axis=1)\n",
    "\n",
    "    dat = pd.DataFrame(dat)\n",
    "\n",
    "    dat.columns = ['x' + str(locus) for locus in list(S_RIL.columns)] + ['y']\n",
    "    \n",
    "    dat.insert(0, 'Line', line_RILs)  # Insert at position 0 (leftmost)\n",
    "    dat.insert(1, 'Replicate', reps)  # Insert at position 0 (leftmost)    \n",
    "\n",
    "    dat.to_csv(f\"LD_h2_simulation/original_genotypes_sample_{i}.csv\", index=None)"
   ]
  },
  {
   "cell_type": "code",
   "execution_count": 29,
   "id": "37a3ed74-0d18-499f-a1ab-c3e0b7311676",
   "metadata": {
    "tags": []
   },
   "outputs": [],
   "source": [
    "!zip -r LD_h2_simulation/permuted_genotypes.zip LD_h2_simulation/permuted_genotypes*\n",
    "!zip -r LD_h2_simulation/original_genotypes.zip LD_h2_simulation/original_genotypes*"
   ]
  },
  {
   "cell_type": "markdown",
   "id": "097532a5-1ecc-4ffe-8a18-f702cb368407",
   "metadata": {},
   "source": [
    "##### Paired simulated data"
   ]
  },
  {
   "cell_type": "code",
   "execution_count": 167,
   "id": "eb228667-f5e3-406b-9c36-187f517b9c60",
   "metadata": {
    "tags": []
   },
   "outputs": [],
   "source": [
    "for i in range(100):\n",
    "    \n",
    "    mut = sample_mut()\n",
    "\n",
    "    # random genotypes\n",
    "    G_perm = permute_rows_individually(G_RIL)\n",
    "    g = np.matmul(G_perm, mut)\n",
    "    \n",
    "    G_ex = np.matmul(A_RIL, G_perm)\n",
    "    g_ex = np.matmul(A_RIL, g)\n",
    "    \n",
    "    noise = np.random.normal(loc=0, scale=std, size=len(G_ex))\n",
    "    y = g_ex + noise\n",
    "\n",
    "    dat = np.append(G_ex, np.expand_dims(y, 1), axis=1)\n",
    "\n",
    "    dat = pd.DataFrame(dat)\n",
    "\n",
    "    dat.columns = ['x' + str(locus) for locus in list(S_RIL.columns)] + ['y']\n",
    "    \n",
    "    dat.insert(0, 'Line', line_RILs)  # Insert at position 0 (leftmost)\n",
    "    dat.insert(1, 'Replicate', reps)  # Insert at position 0 (leftmost)    \n",
    "\n",
    "    dat.to_csv(f\"LD_h2_simulation/permuted_genotypes_sample_{i}.csv\", index=None)\n",
    "    \n",
    "    # original genotypes\n",
    "    \n",
    "    G_perm = G_RIL\n",
    "    g = np.matmul(G_perm, mut)\n",
    "    \n",
    "    G_ex = np.matmul(A_RIL, G_perm)\n",
    "    g_ex = np.matmul(A_RIL, g)\n",
    "    \n",
    "    noise = np.random.normal(loc=0, scale=std, size=len(G_ex))\n",
    "    y = g_ex + noise\n",
    "\n",
    "    dat = np.append(G_ex, np.expand_dims(y, 1), axis=1)\n",
    "\n",
    "    dat = pd.DataFrame(dat)\n",
    "\n",
    "    dat.columns = ['x' + str(locus) for locus in list(S_RIL.columns)] + ['y']\n",
    "    \n",
    "    dat.insert(0, 'Line', line_RILs)  # Insert at position 0 (leftmost)\n",
    "    dat.insert(1, 'Replicate', reps)  # Insert at position 0 (leftmost)    \n",
    "\n",
    "    dat.to_csv(f\"LD_h2_simulation/original_genotypes_sample_{i}.csv\", index=None)    "
   ]
  },
  {
   "cell_type": "code",
   "execution_count": 168,
   "id": "d4bb05e3-fc9c-43f5-9baf-0c6cace2cccb",
   "metadata": {
    "collapsed": true,
    "jupyter": {
     "outputs_hidden": true
    },
    "tags": []
   },
   "outputs": [
    {
     "name": "stdout",
     "output_type": "stream",
     "text": [
      "updating: LD_h2_simulation/permuted_genotypes_sample_0.csv (deflated 96%)\n",
      "updating: LD_h2_simulation/permuted_genotypes_sample_10.csv (deflated 95%)\n",
      "updating: LD_h2_simulation/permuted_genotypes_sample_11.csv (deflated 95%)\n",
      "updating: LD_h2_simulation/permuted_genotypes_sample_12.csv (deflated 95%)\n",
      "updating: LD_h2_simulation/permuted_genotypes_sample_13.csv (deflated 95%)\n",
      "updating: LD_h2_simulation/permuted_genotypes_sample_14.csv (deflated 95%)\n",
      "updating: LD_h2_simulation/permuted_genotypes_sample_15.csv (deflated 96%)\n",
      "updating: LD_h2_simulation/permuted_genotypes_sample_16.csv (deflated 95%)\n",
      "updating: LD_h2_simulation/permuted_genotypes_sample_17.csv (deflated 95%)\n",
      "updating: LD_h2_simulation/permuted_genotypes_sample_18.csv (deflated 95%)\n",
      "updating: LD_h2_simulation/permuted_genotypes_sample_19.csv (deflated 96%)\n",
      "updating: LD_h2_simulation/permuted_genotypes_sample_1.csv (deflated 95%)\n",
      "updating: LD_h2_simulation/permuted_genotypes_sample_20.csv (deflated 95%)\n",
      "updating: LD_h2_simulation/permuted_genotypes_sample_21.csv (deflated 95%)\n",
      "updating: LD_h2_simulation/permuted_genotypes_sample_22.csv (deflated 95%)\n",
      "updating: LD_h2_simulation/permuted_genotypes_sample_23.csv (deflated 95%)\n",
      "updating: LD_h2_simulation/permuted_genotypes_sample_24.csv (deflated 96%)\n",
      "updating: LD_h2_simulation/permuted_genotypes_sample_25.csv (deflated 96%)\n",
      "updating: LD_h2_simulation/permuted_genotypes_sample_26.csv (deflated 95%)\n",
      "updating: LD_h2_simulation/permuted_genotypes_sample_27.csv (deflated 95%)\n",
      "updating: LD_h2_simulation/permuted_genotypes_sample_28.csv (deflated 95%)\n",
      "updating: LD_h2_simulation/permuted_genotypes_sample_29.csv (deflated 96%)\n",
      "updating: LD_h2_simulation/permuted_genotypes_sample_2.csv (deflated 96%)\n",
      "updating: LD_h2_simulation/permuted_genotypes_sample_30.csv (deflated 95%)\n",
      "updating: LD_h2_simulation/permuted_genotypes_sample_31.csv (deflated 95%)\n",
      "updating: LD_h2_simulation/permuted_genotypes_sample_32.csv (deflated 95%)\n",
      "updating: LD_h2_simulation/permuted_genotypes_sample_33.csv (deflated 95%)\n",
      "updating: LD_h2_simulation/permuted_genotypes_sample_34.csv (deflated 95%)\n",
      "updating: LD_h2_simulation/permuted_genotypes_sample_35.csv (deflated 95%)\n",
      "updating: LD_h2_simulation/permuted_genotypes_sample_36.csv (deflated 95%)\n",
      "updating: LD_h2_simulation/permuted_genotypes_sample_37.csv (deflated 96%)\n",
      "updating: LD_h2_simulation/permuted_genotypes_sample_38.csv (deflated 95%)\n",
      "updating: LD_h2_simulation/permuted_genotypes_sample_39.csv (deflated 95%)\n",
      "updating: LD_h2_simulation/permuted_genotypes_sample_3.csv (deflated 96%)\n",
      "updating: LD_h2_simulation/permuted_genotypes_sample_40.csv (deflated 95%)\n",
      "updating: LD_h2_simulation/permuted_genotypes_sample_41.csv (deflated 95%)\n",
      "updating: LD_h2_simulation/permuted_genotypes_sample_42.csv (deflated 95%)\n",
      "updating: LD_h2_simulation/permuted_genotypes_sample_43.csv (deflated 95%)\n",
      "updating: LD_h2_simulation/permuted_genotypes_sample_44.csv (deflated 95%)\n",
      "updating: LD_h2_simulation/permuted_genotypes_sample_45.csv (deflated 95%)\n",
      "updating: LD_h2_simulation/permuted_genotypes_sample_46.csv (deflated 96%)\n",
      "updating: LD_h2_simulation/permuted_genotypes_sample_47.csv (deflated 95%)\n",
      "updating: LD_h2_simulation/permuted_genotypes_sample_48.csv (deflated 95%)\n",
      "updating: LD_h2_simulation/permuted_genotypes_sample_49.csv (deflated 95%)\n",
      "updating: LD_h2_simulation/permuted_genotypes_sample_4.csv (deflated 95%)\n",
      "updating: LD_h2_simulation/permuted_genotypes_sample_50.csv (deflated 95%)\n",
      "updating: LD_h2_simulation/permuted_genotypes_sample_51.csv (deflated 95%)\n",
      "updating: LD_h2_simulation/permuted_genotypes_sample_52.csv (deflated 95%)\n",
      "updating: LD_h2_simulation/permuted_genotypes_sample_53.csv (deflated 95%)\n",
      "updating: LD_h2_simulation/permuted_genotypes_sample_54.csv (deflated 95%)\n",
      "updating: LD_h2_simulation/permuted_genotypes_sample_55.csv (deflated 95%)\n",
      "updating: LD_h2_simulation/permuted_genotypes_sample_56.csv (deflated 95%)\n",
      "updating: LD_h2_simulation/permuted_genotypes_sample_57.csv (deflated 95%)\n",
      "updating: LD_h2_simulation/permuted_genotypes_sample_58.csv (deflated 96%)\n",
      "updating: LD_h2_simulation/permuted_genotypes_sample_59.csv (deflated 95%)\n",
      "updating: LD_h2_simulation/permuted_genotypes_sample_5.csv (deflated 96%)\n",
      "updating: LD_h2_simulation/permuted_genotypes_sample_60.csv (deflated 95%)\n",
      "updating: LD_h2_simulation/permuted_genotypes_sample_61.csv (deflated 95%)\n",
      "updating: LD_h2_simulation/permuted_genotypes_sample_62.csv (deflated 96%)\n",
      "updating: LD_h2_simulation/permuted_genotypes_sample_63.csv (deflated 96%)\n",
      "updating: LD_h2_simulation/permuted_genotypes_sample_64.csv (deflated 95%)\n",
      "updating: LD_h2_simulation/permuted_genotypes_sample_65.csv (deflated 96%)\n",
      "updating: LD_h2_simulation/permuted_genotypes_sample_66.csv (deflated 95%)\n",
      "updating: LD_h2_simulation/permuted_genotypes_sample_67.csv (deflated 95%)\n",
      "updating: LD_h2_simulation/permuted_genotypes_sample_68.csv (deflated 95%)\n",
      "updating: LD_h2_simulation/permuted_genotypes_sample_69.csv (deflated 95%)\n",
      "updating: LD_h2_simulation/permuted_genotypes_sample_6.csv (deflated 95%)\n",
      "updating: LD_h2_simulation/permuted_genotypes_sample_70.csv (deflated 95%)\n",
      "updating: LD_h2_simulation/permuted_genotypes_sample_71.csv (deflated 95%)\n",
      "updating: LD_h2_simulation/permuted_genotypes_sample_72.csv (deflated 95%)\n",
      "updating: LD_h2_simulation/permuted_genotypes_sample_73.csv (deflated 96%)\n",
      "updating: LD_h2_simulation/permuted_genotypes_sample_74.csv (deflated 96%)\n",
      "updating: LD_h2_simulation/permuted_genotypes_sample_75.csv (deflated 95%)\n",
      "updating: LD_h2_simulation/permuted_genotypes_sample_76.csv (deflated 95%)\n",
      "updating: LD_h2_simulation/permuted_genotypes_sample_77.csv (deflated 95%)\n",
      "updating: LD_h2_simulation/permuted_genotypes_sample_78.csv (deflated 96%)\n",
      "updating: LD_h2_simulation/permuted_genotypes_sample_79.csv (deflated 96%)\n",
      "updating: LD_h2_simulation/permuted_genotypes_sample_7.csv (deflated 95%)\n",
      "updating: LD_h2_simulation/permuted_genotypes_sample_80.csv (deflated 96%)\n",
      "updating: LD_h2_simulation/permuted_genotypes_sample_81.csv (deflated 95%)\n",
      "updating: LD_h2_simulation/permuted_genotypes_sample_82.csv (deflated 96%)\n",
      "updating: LD_h2_simulation/permuted_genotypes_sample_83.csv (deflated 96%)\n",
      "updating: LD_h2_simulation/permuted_genotypes_sample_84.csv (deflated 95%)\n",
      "updating: LD_h2_simulation/permuted_genotypes_sample_85.csv (deflated 96%)\n",
      "updating: LD_h2_simulation/permuted_genotypes_sample_86.csv (deflated 95%)\n",
      "updating: LD_h2_simulation/permuted_genotypes_sample_87.csv (deflated 95%)\n",
      "updating: LD_h2_simulation/permuted_genotypes_sample_88.csv (deflated 95%)\n",
      "updating: LD_h2_simulation/permuted_genotypes_sample_89.csv (deflated 95%)\n",
      "updating: LD_h2_simulation/permuted_genotypes_sample_8.csv (deflated 95%)\n",
      "updating: LD_h2_simulation/permuted_genotypes_sample_90.csv (deflated 95%)\n",
      "updating: LD_h2_simulation/permuted_genotypes_sample_91.csv (deflated 95%)\n",
      "updating: LD_h2_simulation/permuted_genotypes_sample_92.csv (deflated 95%)\n",
      "updating: LD_h2_simulation/permuted_genotypes_sample_93.csv (deflated 95%)\n",
      "updating: LD_h2_simulation/permuted_genotypes_sample_94.csv (deflated 96%)\n",
      "updating: LD_h2_simulation/permuted_genotypes_sample_95.csv (deflated 95%)\n",
      "updating: LD_h2_simulation/permuted_genotypes_sample_96.csv (deflated 95%)\n",
      "updating: LD_h2_simulation/permuted_genotypes_sample_97.csv (deflated 95%)\n",
      "updating: LD_h2_simulation/permuted_genotypes_sample_98.csv (deflated 96%)\n",
      "updating: LD_h2_simulation/permuted_genotypes_sample_99.csv (deflated 96%)\n",
      "updating: LD_h2_simulation/permuted_genotypes_sample_9.csv (deflated 96%)\n",
      "updating: LD_h2_simulation/original_genotypes_sample_0.csv (deflated 96%)\n",
      "updating: LD_h2_simulation/original_genotypes_sample_10.csv (deflated 96%)\n",
      "updating: LD_h2_simulation/original_genotypes_sample_11.csv (deflated 96%)\n",
      "updating: LD_h2_simulation/original_genotypes_sample_12.csv (deflated 96%)\n",
      "updating: LD_h2_simulation/original_genotypes_sample_13.csv (deflated 96%)\n",
      "updating: LD_h2_simulation/original_genotypes_sample_14.csv (deflated 96%)\n",
      "updating: LD_h2_simulation/original_genotypes_sample_15.csv (deflated 96%)\n",
      "updating: LD_h2_simulation/original_genotypes_sample_16.csv (deflated 96%)\n",
      "updating: LD_h2_simulation/original_genotypes_sample_17.csv (deflated 96%)\n",
      "updating: LD_h2_simulation/original_genotypes_sample_18.csv (deflated 96%)\n",
      "updating: LD_h2_simulation/original_genotypes_sample_19.csv (deflated 96%)\n",
      "updating: LD_h2_simulation/original_genotypes_sample_1.csv (deflated 96%)\n",
      "updating: LD_h2_simulation/original_genotypes_sample_20.csv (deflated 96%)\n",
      "updating: LD_h2_simulation/original_genotypes_sample_21.csv (deflated 96%)\n",
      "updating: LD_h2_simulation/original_genotypes_sample_22.csv (deflated 96%)\n",
      "updating: LD_h2_simulation/original_genotypes_sample_23.csv (deflated 96%)\n",
      "updating: LD_h2_simulation/original_genotypes_sample_24.csv (deflated 96%)\n",
      "updating: LD_h2_simulation/original_genotypes_sample_25.csv (deflated 96%)\n",
      "updating: LD_h2_simulation/original_genotypes_sample_26.csv (deflated 96%)\n",
      "updating: LD_h2_simulation/original_genotypes_sample_27.csv (deflated 96%)\n",
      "updating: LD_h2_simulation/original_genotypes_sample_28.csv (deflated 96%)\n",
      "updating: LD_h2_simulation/original_genotypes_sample_29.csv (deflated 96%)\n",
      "updating: LD_h2_simulation/original_genotypes_sample_2.csv (deflated 96%)\n",
      "updating: LD_h2_simulation/original_genotypes_sample_30.csv (deflated 96%)\n",
      "updating: LD_h2_simulation/original_genotypes_sample_31.csv (deflated 96%)\n",
      "updating: LD_h2_simulation/original_genotypes_sample_32.csv (deflated 96%)\n",
      "updating: LD_h2_simulation/original_genotypes_sample_33.csv (deflated 96%)\n",
      "updating: LD_h2_simulation/original_genotypes_sample_34.csv (deflated 96%)\n",
      "updating: LD_h2_simulation/original_genotypes_sample_35.csv (deflated 96%)\n",
      "updating: LD_h2_simulation/original_genotypes_sample_36.csv (deflated 96%)\n",
      "updating: LD_h2_simulation/original_genotypes_sample_37.csv (deflated 96%)\n",
      "updating: LD_h2_simulation/original_genotypes_sample_38.csv (deflated 96%)\n",
      "updating: LD_h2_simulation/original_genotypes_sample_39.csv (deflated 96%)\n",
      "updating: LD_h2_simulation/original_genotypes_sample_3.csv (deflated 96%)\n",
      "updating: LD_h2_simulation/original_genotypes_sample_40.csv (deflated 96%)\n",
      "updating: LD_h2_simulation/original_genotypes_sample_41.csv (deflated 96%)\n",
      "updating: LD_h2_simulation/original_genotypes_sample_42.csv (deflated 96%)\n",
      "updating: LD_h2_simulation/original_genotypes_sample_43.csv (deflated 96%)\n",
      "updating: LD_h2_simulation/original_genotypes_sample_44.csv (deflated 96%)\n",
      "updating: LD_h2_simulation/original_genotypes_sample_45.csv (deflated 96%)\n",
      "updating: LD_h2_simulation/original_genotypes_sample_46.csv (deflated 96%)\n",
      "updating: LD_h2_simulation/original_genotypes_sample_47.csv (deflated 96%)\n",
      "updating: LD_h2_simulation/original_genotypes_sample_48.csv (deflated 96%)\n",
      "updating: LD_h2_simulation/original_genotypes_sample_49.csv (deflated 96%)\n",
      "updating: LD_h2_simulation/original_genotypes_sample_4.csv (deflated 96%)\n",
      "updating: LD_h2_simulation/original_genotypes_sample_50.csv (deflated 96%)\n",
      "updating: LD_h2_simulation/original_genotypes_sample_51.csv (deflated 96%)\n",
      "updating: LD_h2_simulation/original_genotypes_sample_52.csv (deflated 96%)\n",
      "updating: LD_h2_simulation/original_genotypes_sample_53.csv (deflated 96%)\n",
      "updating: LD_h2_simulation/original_genotypes_sample_54.csv (deflated 96%)\n",
      "updating: LD_h2_simulation/original_genotypes_sample_55.csv (deflated 96%)\n",
      "updating: LD_h2_simulation/original_genotypes_sample_56.csv (deflated 96%)\n",
      "updating: LD_h2_simulation/original_genotypes_sample_57.csv (deflated 96%)\n",
      "updating: LD_h2_simulation/original_genotypes_sample_58.csv (deflated 96%)\n",
      "updating: LD_h2_simulation/original_genotypes_sample_59.csv (deflated 96%)\n",
      "updating: LD_h2_simulation/original_genotypes_sample_5.csv (deflated 96%)\n",
      "updating: LD_h2_simulation/original_genotypes_sample_60.csv (deflated 96%)\n",
      "updating: LD_h2_simulation/original_genotypes_sample_61.csv (deflated 96%)\n",
      "updating: LD_h2_simulation/original_genotypes_sample_62.csv (deflated 96%)\n",
      "updating: LD_h2_simulation/original_genotypes_sample_63.csv (deflated 96%)\n",
      "updating: LD_h2_simulation/original_genotypes_sample_64.csv (deflated 96%)\n",
      "updating: LD_h2_simulation/original_genotypes_sample_65.csv (deflated 96%)\n",
      "updating: LD_h2_simulation/original_genotypes_sample_66.csv (deflated 96%)\n",
      "updating: LD_h2_simulation/original_genotypes_sample_67.csv (deflated 96%)\n",
      "updating: LD_h2_simulation/original_genotypes_sample_68.csv (deflated 96%)\n",
      "updating: LD_h2_simulation/original_genotypes_sample_69.csv (deflated 96%)\n",
      "updating: LD_h2_simulation/original_genotypes_sample_6.csv (deflated 96%)\n",
      "updating: LD_h2_simulation/original_genotypes_sample_70.csv (deflated 96%)\n",
      "updating: LD_h2_simulation/original_genotypes_sample_71.csv (deflated 96%)\n",
      "updating: LD_h2_simulation/original_genotypes_sample_72.csv (deflated 96%)\n",
      "updating: LD_h2_simulation/original_genotypes_sample_73.csv (deflated 96%)\n",
      "updating: LD_h2_simulation/original_genotypes_sample_74.csv (deflated 96%)\n",
      "updating: LD_h2_simulation/original_genotypes_sample_75.csv (deflated 96%)\n",
      "updating: LD_h2_simulation/original_genotypes_sample_76.csv (deflated 96%)\n",
      "updating: LD_h2_simulation/original_genotypes_sample_77.csv (deflated 96%)\n",
      "updating: LD_h2_simulation/original_genotypes_sample_78.csv (deflated 96%)\n",
      "updating: LD_h2_simulation/original_genotypes_sample_79.csv (deflated 96%)\n",
      "updating: LD_h2_simulation/original_genotypes_sample_7.csv (deflated 96%)\n",
      "updating: LD_h2_simulation/original_genotypes_sample_80.csv (deflated 96%)\n",
      "updating: LD_h2_simulation/original_genotypes_sample_81.csv (deflated 96%)\n",
      "updating: LD_h2_simulation/original_genotypes_sample_82.csv (deflated 96%)\n",
      "updating: LD_h2_simulation/original_genotypes_sample_83.csv (deflated 96%)\n",
      "updating: LD_h2_simulation/original_genotypes_sample_84.csv (deflated 96%)\n",
      "updating: LD_h2_simulation/original_genotypes_sample_85.csv (deflated 96%)\n",
      "updating: LD_h2_simulation/original_genotypes_sample_86.csv (deflated 96%)\n",
      "updating: LD_h2_simulation/original_genotypes_sample_87.csv (deflated 96%)\n",
      "updating: LD_h2_simulation/original_genotypes_sample_88.csv (deflated 96%)\n",
      "updating: LD_h2_simulation/original_genotypes_sample_89.csv (deflated 96%)\n",
      "updating: LD_h2_simulation/original_genotypes_sample_8.csv (deflated 96%)\n",
      "updating: LD_h2_simulation/original_genotypes_sample_90.csv (deflated 96%)\n",
      "updating: LD_h2_simulation/original_genotypes_sample_91.csv (deflated 96%)\n",
      "updating: LD_h2_simulation/original_genotypes_sample_92.csv (deflated 96%)\n",
      "updating: LD_h2_simulation/original_genotypes_sample_93.csv (deflated 96%)\n",
      "updating: LD_h2_simulation/original_genotypes_sample_94.csv (deflated 96%)\n",
      "updating: LD_h2_simulation/original_genotypes_sample_95.csv (deflated 96%)\n",
      "updating: LD_h2_simulation/original_genotypes_sample_96.csv (deflated 96%)\n",
      "updating: LD_h2_simulation/original_genotypes_sample_97.csv (deflated 96%)\n",
      "updating: LD_h2_simulation/original_genotypes_sample_98.csv (deflated 96%)\n",
      "updating: LD_h2_simulation/original_genotypes_sample_99.csv (deflated 96%)\n",
      "updating: LD_h2_simulation/original_genotypes_sample_9.csv (deflated 96%)\n"
     ]
    }
   ],
   "source": [
    "!zip -r LD_h2_simulation/permuted_genotypes.zip LD_h2_simulation/permuted_genotypes*\n",
    "!zip -r LD_h2_simulation/original_genotypes.zip LD_h2_simulation/original_genotypes*"
   ]
  },
  {
   "cell_type": "markdown",
   "id": "071cee52-235d-41e2-84fe-25f7354fcab1",
   "metadata": {},
   "source": [
    "#### Simulate under negative Gamma model"
   ]
  },
  {
   "cell_type": "code",
   "execution_count": 18,
   "id": "457fef4c-5f41-4e40-a989-93c21bc60607",
   "metadata": {
    "tags": []
   },
   "outputs": [],
   "source": [
    "def sample_mut():\n",
    "    mut_neg = -1 * np.random.gamma(shape=alpha_neg, scale=1/beta_neg, size=L)\n",
    "    return mut_neg\n",
    "\n",
    "def permute_rows_individually(array):\n",
    "    permuted_array = np.empty_like(array)\n",
    "    for i in range(array.shape[0]):\n",
    "        permuted_array[i] = np.random.permutation(array[i])\n",
    "    return permuted_array"
   ]
  },
  {
   "cell_type": "code",
   "execution_count": 16,
   "id": "41f84cc0-0e38-4f63-8d4f-dbce4eab71c9",
   "metadata": {
    "tags": []
   },
   "outputs": [],
   "source": [
    "alpha_neg, beta_neg = 0.0423, 5.755\n",
    "\n",
    "std = 0.999"
   ]
  },
  {
   "cell_type": "code",
   "execution_count": 19,
   "id": "fdaa617b-6957-4e2b-a3cf-05ecab9e0105",
   "metadata": {
    "tags": []
   },
   "outputs": [],
   "source": [
    "# Only use RILs\n",
    "\n",
    "S_RIL = S_tensor[['RIL' in ID for ID in S_tensor.index]]\n",
    "\n",
    "A_RIL = A.toarray()[np.where(['RIL' in id for id in data.Linex])[0]][:, np.where(['RIL' in id for id in line2num.keys()])[0]]\n",
    "\n",
    "G_RIL = np.round(S_RIL).to_numpy()\n",
    "\n",
    "n_RILs = A_RIL.shape[0]\n",
    "\n",
    "line_RILs = list(data.Linex[-n_RILs:])\n",
    "reps = [np.sum([l == line_RILs[i] for l in line_RILs[:i + 1]]) for i in range(n_RILs)]"
   ]
  },
  {
   "cell_type": "markdown",
   "id": "0cc43edb-01da-4d7c-9dac-09a564787b91",
   "metadata": {},
   "source": [
    "##### Simulated unpaired data"
   ]
  },
  {
   "cell_type": "code",
   "execution_count": 90,
   "id": "34261146-5172-4751-b3a2-86a82d7c3139",
   "metadata": {
    "tags": []
   },
   "outputs": [],
   "source": [
    "for i in range(100):\n",
    "\n",
    "    G_perm = permute_rows_individually(G_RIL)\n",
    "    mut = sample_mut()\n",
    "    g = np.matmul(G_perm, mut)\n",
    "    \n",
    "    G_ex = np.matmul(A_RIL, G_perm)\n",
    "    g_ex = np.matmul(A_RIL, g)\n",
    "    \n",
    "    noise = np.random.normal(loc=0, scale=std, size=len(G_ex))\n",
    "    y = g_ex + noise\n",
    "\n",
    "    dat = np.append(G_ex, np.expand_dims(y, 1), axis=1)\n",
    "\n",
    "    dat = pd.DataFrame(dat)\n",
    "\n",
    "    dat.columns = ['x' + str(locus) for locus in list(S_RIL.columns)] + ['y']\n",
    "    \n",
    "    dat.insert(0, 'Line', line_RILs)  # Insert at position 0 (leftmost)\n",
    "    dat.insert(1, 'Replicate', reps)  # Insert at position 0 (leftmost)    \n",
    "\n",
    "    dat.to_csv(f\"LD_h2_simulation/neg_gamma_permuted_genotypes_sample_{i}.csv\", index=None)"
   ]
  },
  {
   "cell_type": "code",
   "execution_count": 42,
   "id": "035bad91-590b-4f3c-9a30-da138b9b6a42",
   "metadata": {
    "tags": []
   },
   "outputs": [],
   "source": [
    "for i in range(100):\n",
    "\n",
    "    G_perm = G_RIL\n",
    "    mut = sample_mut()\n",
    "    g = np.matmul(G_perm, mut)\n",
    "    \n",
    "    G_ex = np.matmul(A_RIL, G_perm)\n",
    "    g_ex = np.matmul(A_RIL, g)\n",
    "    \n",
    "    noise = np.random.normal(loc=0, scale=std, size=len(G_ex))\n",
    "    y = g_ex + noise\n",
    "\n",
    "    dat = np.append(G_ex, np.expand_dims(y, 1), axis=1)\n",
    "\n",
    "    dat = pd.DataFrame(dat)\n",
    "\n",
    "    dat.columns = ['x' + str(locus) for locus in list(S_RIL.columns)] + ['y']\n",
    "    \n",
    "    dat.insert(0, 'Line', line_RILs)  # Insert at position 0 (leftmost)\n",
    "    dat.insert(1, 'Replicate', reps)  # Insert at position 0 (leftmost)    \n",
    "\n",
    "    dat.to_csv(f\"LD_h2_simulation/neg_gamma_original_genotypes_sample_{i}.csv\", index=None)"
   ]
  },
  {
   "cell_type": "code",
   "execution_count": 43,
   "id": "cd5a73ee-bf2d-4b11-a1d7-65db288df336",
   "metadata": {
    "collapsed": true,
    "jupyter": {
     "outputs_hidden": true
    },
    "tags": []
   },
   "outputs": [
    {
     "name": "stdout",
     "output_type": "stream",
     "text": [
      "  adding: LD_h2_simulation/neg_gamma_permuted_genotypes_sample_0.csv (deflated 95%)\n",
      "  adding: LD_h2_simulation/neg_gamma_permuted_genotypes_sample_10.csv (deflated 95%)\n",
      "  adding: LD_h2_simulation/neg_gamma_permuted_genotypes_sample_11.csv (deflated 95%)\n",
      "  adding: LD_h2_simulation/neg_gamma_permuted_genotypes_sample_12.csv (deflated 95%)\n",
      "  adding: LD_h2_simulation/neg_gamma_permuted_genotypes_sample_13.csv (deflated 95%)\n",
      "  adding: LD_h2_simulation/neg_gamma_permuted_genotypes_sample_14.csv (deflated 95%)\n",
      "  adding: LD_h2_simulation/neg_gamma_permuted_genotypes_sample_15.csv (deflated 96%)\n",
      "  adding: LD_h2_simulation/neg_gamma_permuted_genotypes_sample_16.csv (deflated 95%)\n",
      "  adding: LD_h2_simulation/neg_gamma_permuted_genotypes_sample_17.csv (deflated 95%)\n",
      "  adding: LD_h2_simulation/neg_gamma_permuted_genotypes_sample_18.csv (deflated 95%)\n",
      "  adding: LD_h2_simulation/neg_gamma_permuted_genotypes_sample_19.csv (deflated 95%)\n",
      "  adding: LD_h2_simulation/neg_gamma_permuted_genotypes_sample_1.csv (deflated 95%)\n",
      "  adding: LD_h2_simulation/neg_gamma_permuted_genotypes_sample_20.csv (deflated 95%)\n",
      "  adding: LD_h2_simulation/neg_gamma_permuted_genotypes_sample_21.csv (deflated 95%)\n",
      "  adding: LD_h2_simulation/neg_gamma_permuted_genotypes_sample_22.csv (deflated 95%)\n",
      "  adding: LD_h2_simulation/neg_gamma_permuted_genotypes_sample_23.csv (deflated 95%)\n",
      "  adding: LD_h2_simulation/neg_gamma_permuted_genotypes_sample_24.csv (deflated 95%)\n",
      "  adding: LD_h2_simulation/neg_gamma_permuted_genotypes_sample_25.csv (deflated 95%)\n",
      "  adding: LD_h2_simulation/neg_gamma_permuted_genotypes_sample_26.csv (deflated 95%)\n",
      "  adding: LD_h2_simulation/neg_gamma_permuted_genotypes_sample_27.csv (deflated 95%)\n",
      "  adding: LD_h2_simulation/neg_gamma_permuted_genotypes_sample_28.csv (deflated 96%)\n",
      "  adding: LD_h2_simulation/neg_gamma_permuted_genotypes_sample_29.csv (deflated 95%)\n",
      "  adding: LD_h2_simulation/neg_gamma_permuted_genotypes_sample_2.csv (deflated 95%)\n",
      "  adding: LD_h2_simulation/neg_gamma_permuted_genotypes_sample_30.csv (deflated 95%)\n",
      "  adding: LD_h2_simulation/neg_gamma_permuted_genotypes_sample_31.csv (deflated 95%)\n",
      "  adding: LD_h2_simulation/neg_gamma_permuted_genotypes_sample_32.csv (deflated 95%)\n",
      "  adding: LD_h2_simulation/neg_gamma_permuted_genotypes_sample_33.csv (deflated 95%)\n",
      "  adding: LD_h2_simulation/neg_gamma_permuted_genotypes_sample_34.csv (deflated 95%)\n",
      "  adding: LD_h2_simulation/neg_gamma_permuted_genotypes_sample_35.csv (deflated 96%)\n",
      "  adding: LD_h2_simulation/neg_gamma_permuted_genotypes_sample_36.csv (deflated 95%)\n",
      "  adding: LD_h2_simulation/neg_gamma_permuted_genotypes_sample_37.csv (deflated 95%)\n",
      "  adding: LD_h2_simulation/neg_gamma_permuted_genotypes_sample_38.csv (deflated 95%)\n",
      "  adding: LD_h2_simulation/neg_gamma_permuted_genotypes_sample_39.csv (deflated 95%)\n",
      "  adding: LD_h2_simulation/neg_gamma_permuted_genotypes_sample_3.csv (deflated 95%)\n",
      "  adding: LD_h2_simulation/neg_gamma_permuted_genotypes_sample_40.csv (deflated 95%)\n",
      "  adding: LD_h2_simulation/neg_gamma_permuted_genotypes_sample_41.csv (deflated 95%)\n",
      "  adding: LD_h2_simulation/neg_gamma_permuted_genotypes_sample_42.csv (deflated 95%)\n",
      "  adding: LD_h2_simulation/neg_gamma_permuted_genotypes_sample_43.csv (deflated 95%)\n",
      "  adding: LD_h2_simulation/neg_gamma_permuted_genotypes_sample_44.csv (deflated 95%)\n",
      "  adding: LD_h2_simulation/neg_gamma_permuted_genotypes_sample_45.csv (deflated 95%)\n",
      "  adding: LD_h2_simulation/neg_gamma_permuted_genotypes_sample_46.csv (deflated 95%)\n",
      "  adding: LD_h2_simulation/neg_gamma_permuted_genotypes_sample_47.csv (deflated 95%)\n",
      "  adding: LD_h2_simulation/neg_gamma_permuted_genotypes_sample_48.csv (deflated 95%)\n",
      "  adding: LD_h2_simulation/neg_gamma_permuted_genotypes_sample_49.csv (deflated 95%)\n",
      "  adding: LD_h2_simulation/neg_gamma_permuted_genotypes_sample_4.csv (deflated 95%)\n",
      "  adding: LD_h2_simulation/neg_gamma_permuted_genotypes_sample_50.csv (deflated 95%)\n",
      "  adding: LD_h2_simulation/neg_gamma_permuted_genotypes_sample_51.csv (deflated 95%)\n",
      "  adding: LD_h2_simulation/neg_gamma_permuted_genotypes_sample_52.csv (deflated 95%)\n",
      "  adding: LD_h2_simulation/neg_gamma_permuted_genotypes_sample_53.csv (deflated 95%)\n",
      "  adding: LD_h2_simulation/neg_gamma_permuted_genotypes_sample_54.csv (deflated 95%)\n",
      "  adding: LD_h2_simulation/neg_gamma_permuted_genotypes_sample_55.csv (deflated 95%)\n",
      "  adding: LD_h2_simulation/neg_gamma_permuted_genotypes_sample_56.csv (deflated 95%)\n",
      "  adding: LD_h2_simulation/neg_gamma_permuted_genotypes_sample_57.csv (deflated 95%)\n",
      "  adding: LD_h2_simulation/neg_gamma_permuted_genotypes_sample_58.csv (deflated 95%)\n",
      "  adding: LD_h2_simulation/neg_gamma_permuted_genotypes_sample_59.csv (deflated 95%)\n",
      "  adding: LD_h2_simulation/neg_gamma_permuted_genotypes_sample_5.csv (deflated 95%)\n",
      "  adding: LD_h2_simulation/neg_gamma_permuted_genotypes_sample_60.csv (deflated 95%)\n",
      "  adding: LD_h2_simulation/neg_gamma_permuted_genotypes_sample_61.csv (deflated 95%)\n",
      "  adding: LD_h2_simulation/neg_gamma_permuted_genotypes_sample_62.csv (deflated 95%)\n",
      "  adding: LD_h2_simulation/neg_gamma_permuted_genotypes_sample_63.csv (deflated 95%)\n",
      "  adding: LD_h2_simulation/neg_gamma_permuted_genotypes_sample_64.csv (deflated 95%)\n",
      "  adding: LD_h2_simulation/neg_gamma_permuted_genotypes_sample_65.csv (deflated 95%)\n",
      "  adding: LD_h2_simulation/neg_gamma_permuted_genotypes_sample_66.csv (deflated 95%)\n",
      "  adding: LD_h2_simulation/neg_gamma_permuted_genotypes_sample_67.csv (deflated 95%)\n",
      "  adding: LD_h2_simulation/neg_gamma_permuted_genotypes_sample_68.csv (deflated 95%)\n",
      "  adding: LD_h2_simulation/neg_gamma_permuted_genotypes_sample_69.csv (deflated 95%)\n",
      "  adding: LD_h2_simulation/neg_gamma_permuted_genotypes_sample_6.csv (deflated 95%)\n",
      "  adding: LD_h2_simulation/neg_gamma_permuted_genotypes_sample_70.csv (deflated 95%)\n",
      "  adding: LD_h2_simulation/neg_gamma_permuted_genotypes_sample_71.csv (deflated 95%)\n",
      "  adding: LD_h2_simulation/neg_gamma_permuted_genotypes_sample_72.csv (deflated 95%)\n",
      "  adding: LD_h2_simulation/neg_gamma_permuted_genotypes_sample_73.csv (deflated 95%)\n",
      "  adding: LD_h2_simulation/neg_gamma_permuted_genotypes_sample_74.csv (deflated 95%)\n",
      "  adding: LD_h2_simulation/neg_gamma_permuted_genotypes_sample_75.csv (deflated 95%)\n",
      "  adding: LD_h2_simulation/neg_gamma_permuted_genotypes_sample_76.csv (deflated 95%)\n",
      "  adding: LD_h2_simulation/neg_gamma_permuted_genotypes_sample_77.csv (deflated 95%)\n",
      "  adding: LD_h2_simulation/neg_gamma_permuted_genotypes_sample_78.csv (deflated 95%)\n",
      "  adding: LD_h2_simulation/neg_gamma_permuted_genotypes_sample_79.csv (deflated 95%)\n",
      "  adding: LD_h2_simulation/neg_gamma_permuted_genotypes_sample_7.csv (deflated 95%)\n",
      "  adding: LD_h2_simulation/neg_gamma_permuted_genotypes_sample_80.csv (deflated 95%)\n",
      "  adding: LD_h2_simulation/neg_gamma_permuted_genotypes_sample_81.csv (deflated 95%)\n",
      "  adding: LD_h2_simulation/neg_gamma_permuted_genotypes_sample_82.csv (deflated 95%)\n",
      "  adding: LD_h2_simulation/neg_gamma_permuted_genotypes_sample_83.csv (deflated 95%)\n",
      "  adding: LD_h2_simulation/neg_gamma_permuted_genotypes_sample_84.csv (deflated 95%)\n",
      "  adding: LD_h2_simulation/neg_gamma_permuted_genotypes_sample_85.csv (deflated 95%)\n",
      "  adding: LD_h2_simulation/neg_gamma_permuted_genotypes_sample_86.csv (deflated 95%)\n",
      "  adding: LD_h2_simulation/neg_gamma_permuted_genotypes_sample_87.csv (deflated 95%)\n",
      "  adding: LD_h2_simulation/neg_gamma_permuted_genotypes_sample_88.csv (deflated 95%)\n",
      "  adding: LD_h2_simulation/neg_gamma_permuted_genotypes_sample_89.csv (deflated 95%)\n",
      "  adding: LD_h2_simulation/neg_gamma_permuted_genotypes_sample_8.csv (deflated 95%)\n",
      "  adding: LD_h2_simulation/neg_gamma_permuted_genotypes_sample_90.csv (deflated 95%)\n",
      "  adding: LD_h2_simulation/neg_gamma_permuted_genotypes_sample_91.csv (deflated 95%)\n",
      "  adding: LD_h2_simulation/neg_gamma_permuted_genotypes_sample_92.csv (deflated 95%)\n",
      "  adding: LD_h2_simulation/neg_gamma_permuted_genotypes_sample_93.csv (deflated 95%)\n",
      "  adding: LD_h2_simulation/neg_gamma_permuted_genotypes_sample_94.csv (deflated 95%)\n",
      "  adding: LD_h2_simulation/neg_gamma_permuted_genotypes_sample_95.csv (deflated 95%)\n",
      "  adding: LD_h2_simulation/neg_gamma_permuted_genotypes_sample_96.csv (deflated 95%)\n",
      "  adding: LD_h2_simulation/neg_gamma_permuted_genotypes_sample_97.csv (deflated 95%)\n",
      "  adding: LD_h2_simulation/neg_gamma_permuted_genotypes_sample_98.csv (deflated 95%)\n",
      "  adding: LD_h2_simulation/neg_gamma_permuted_genotypes_sample_99.csv (deflated 95%)\n",
      "  adding: LD_h2_simulation/neg_gamma_permuted_genotypes_sample_9.csv (deflated 95%)\n",
      "  adding: LD_h2_simulation/neg_gamma_original_genotypes_sample_0.csv (deflated 96%)\n",
      "  adding: LD_h2_simulation/neg_gamma_original_genotypes_sample_10.csv (deflated 96%)\n",
      "  adding: LD_h2_simulation/neg_gamma_original_genotypes_sample_11.csv (deflated 96%)\n",
      "  adding: LD_h2_simulation/neg_gamma_original_genotypes_sample_12.csv (deflated 96%)\n",
      "  adding: LD_h2_simulation/neg_gamma_original_genotypes_sample_13.csv (deflated 96%)\n",
      "  adding: LD_h2_simulation/neg_gamma_original_genotypes_sample_14.csv (deflated 96%)\n",
      "  adding: LD_h2_simulation/neg_gamma_original_genotypes_sample_15.csv (deflated 96%)\n",
      "  adding: LD_h2_simulation/neg_gamma_original_genotypes_sample_16.csv (deflated 96%)\n",
      "  adding: LD_h2_simulation/neg_gamma_original_genotypes_sample_17.csv (deflated 96%)\n",
      "  adding: LD_h2_simulation/neg_gamma_original_genotypes_sample_18.csv (deflated 96%)\n",
      "  adding: LD_h2_simulation/neg_gamma_original_genotypes_sample_19.csv (deflated 96%)\n",
      "  adding: LD_h2_simulation/neg_gamma_original_genotypes_sample_1.csv (deflated 96%)\n",
      "  adding: LD_h2_simulation/neg_gamma_original_genotypes_sample_20.csv (deflated 96%)\n",
      "  adding: LD_h2_simulation/neg_gamma_original_genotypes_sample_21.csv (deflated 96%)\n",
      "  adding: LD_h2_simulation/neg_gamma_original_genotypes_sample_22.csv (deflated 96%)\n",
      "  adding: LD_h2_simulation/neg_gamma_original_genotypes_sample_23.csv (deflated 96%)\n",
      "  adding: LD_h2_simulation/neg_gamma_original_genotypes_sample_24.csv (deflated 96%)\n",
      "  adding: LD_h2_simulation/neg_gamma_original_genotypes_sample_25.csv (deflated 96%)\n",
      "  adding: LD_h2_simulation/neg_gamma_original_genotypes_sample_26.csv (deflated 96%)\n",
      "  adding: LD_h2_simulation/neg_gamma_original_genotypes_sample_27.csv (deflated 96%)\n",
      "  adding: LD_h2_simulation/neg_gamma_original_genotypes_sample_28.csv (deflated 96%)\n",
      "  adding: LD_h2_simulation/neg_gamma_original_genotypes_sample_29.csv (deflated 96%)\n",
      "  adding: LD_h2_simulation/neg_gamma_original_genotypes_sample_2.csv (deflated 96%)\n",
      "  adding: LD_h2_simulation/neg_gamma_original_genotypes_sample_30.csv (deflated 96%)\n",
      "  adding: LD_h2_simulation/neg_gamma_original_genotypes_sample_31.csv (deflated 96%)\n",
      "  adding: LD_h2_simulation/neg_gamma_original_genotypes_sample_32.csv (deflated 96%)\n",
      "  adding: LD_h2_simulation/neg_gamma_original_genotypes_sample_33.csv (deflated 96%)\n",
      "  adding: LD_h2_simulation/neg_gamma_original_genotypes_sample_34.csv (deflated 96%)\n",
      "  adding: LD_h2_simulation/neg_gamma_original_genotypes_sample_35.csv (deflated 96%)\n",
      "  adding: LD_h2_simulation/neg_gamma_original_genotypes_sample_36.csv (deflated 96%)\n",
      "  adding: LD_h2_simulation/neg_gamma_original_genotypes_sample_37.csv (deflated 96%)\n",
      "  adding: LD_h2_simulation/neg_gamma_original_genotypes_sample_38.csv (deflated 96%)\n",
      "  adding: LD_h2_simulation/neg_gamma_original_genotypes_sample_39.csv (deflated 96%)\n",
      "  adding: LD_h2_simulation/neg_gamma_original_genotypes_sample_3.csv (deflated 96%)\n",
      "  adding: LD_h2_simulation/neg_gamma_original_genotypes_sample_40.csv (deflated 96%)\n",
      "  adding: LD_h2_simulation/neg_gamma_original_genotypes_sample_41.csv (deflated 96%)\n",
      "  adding: LD_h2_simulation/neg_gamma_original_genotypes_sample_42.csv (deflated 96%)\n",
      "  adding: LD_h2_simulation/neg_gamma_original_genotypes_sample_43.csv (deflated 96%)\n",
      "  adding: LD_h2_simulation/neg_gamma_original_genotypes_sample_44.csv (deflated 96%)\n",
      "  adding: LD_h2_simulation/neg_gamma_original_genotypes_sample_45.csv (deflated 96%)\n",
      "  adding: LD_h2_simulation/neg_gamma_original_genotypes_sample_46.csv (deflated 96%)\n",
      "  adding: LD_h2_simulation/neg_gamma_original_genotypes_sample_47.csv (deflated 96%)\n",
      "  adding: LD_h2_simulation/neg_gamma_original_genotypes_sample_48.csv (deflated 96%)\n",
      "  adding: LD_h2_simulation/neg_gamma_original_genotypes_sample_49.csv (deflated 96%)\n",
      "  adding: LD_h2_simulation/neg_gamma_original_genotypes_sample_4.csv (deflated 96%)\n",
      "  adding: LD_h2_simulation/neg_gamma_original_genotypes_sample_50.csv (deflated 96%)\n",
      "  adding: LD_h2_simulation/neg_gamma_original_genotypes_sample_51.csv (deflated 96%)\n",
      "  adding: LD_h2_simulation/neg_gamma_original_genotypes_sample_52.csv (deflated 96%)\n",
      "  adding: LD_h2_simulation/neg_gamma_original_genotypes_sample_53.csv (deflated 96%)\n",
      "  adding: LD_h2_simulation/neg_gamma_original_genotypes_sample_54.csv (deflated 96%)\n",
      "  adding: LD_h2_simulation/neg_gamma_original_genotypes_sample_55.csv (deflated 96%)\n",
      "  adding: LD_h2_simulation/neg_gamma_original_genotypes_sample_56.csv (deflated 96%)\n",
      "  adding: LD_h2_simulation/neg_gamma_original_genotypes_sample_57.csv (deflated 96%)\n",
      "  adding: LD_h2_simulation/neg_gamma_original_genotypes_sample_58.csv (deflated 96%)\n",
      "  adding: LD_h2_simulation/neg_gamma_original_genotypes_sample_59.csv (deflated 96%)\n",
      "  adding: LD_h2_simulation/neg_gamma_original_genotypes_sample_5.csv (deflated 96%)\n",
      "  adding: LD_h2_simulation/neg_gamma_original_genotypes_sample_60.csv (deflated 96%)\n",
      "  adding: LD_h2_simulation/neg_gamma_original_genotypes_sample_61.csv (deflated 96%)\n",
      "  adding: LD_h2_simulation/neg_gamma_original_genotypes_sample_62.csv (deflated 96%)\n",
      "  adding: LD_h2_simulation/neg_gamma_original_genotypes_sample_63.csv (deflated 96%)\n",
      "  adding: LD_h2_simulation/neg_gamma_original_genotypes_sample_64.csv (deflated 96%)\n",
      "  adding: LD_h2_simulation/neg_gamma_original_genotypes_sample_65.csv (deflated 96%)\n",
      "  adding: LD_h2_simulation/neg_gamma_original_genotypes_sample_66.csv (deflated 96%)\n",
      "  adding: LD_h2_simulation/neg_gamma_original_genotypes_sample_67.csv (deflated 96%)\n",
      "  adding: LD_h2_simulation/neg_gamma_original_genotypes_sample_68.csv (deflated 96%)\n",
      "  adding: LD_h2_simulation/neg_gamma_original_genotypes_sample_69.csv (deflated 96%)\n",
      "  adding: LD_h2_simulation/neg_gamma_original_genotypes_sample_6.csv (deflated 96%)\n",
      "  adding: LD_h2_simulation/neg_gamma_original_genotypes_sample_70.csv (deflated 96%)\n",
      "  adding: LD_h2_simulation/neg_gamma_original_genotypes_sample_71.csv (deflated 96%)\n",
      "  adding: LD_h2_simulation/neg_gamma_original_genotypes_sample_72.csv (deflated 96%)\n",
      "  adding: LD_h2_simulation/neg_gamma_original_genotypes_sample_73.csv (deflated 96%)\n",
      "  adding: LD_h2_simulation/neg_gamma_original_genotypes_sample_74.csv (deflated 96%)\n",
      "  adding: LD_h2_simulation/neg_gamma_original_genotypes_sample_75.csv (deflated 96%)\n",
      "  adding: LD_h2_simulation/neg_gamma_original_genotypes_sample_76.csv (deflated 96%)\n",
      "  adding: LD_h2_simulation/neg_gamma_original_genotypes_sample_77.csv (deflated 96%)\n",
      "  adding: LD_h2_simulation/neg_gamma_original_genotypes_sample_78.csv (deflated 96%)\n",
      "  adding: LD_h2_simulation/neg_gamma_original_genotypes_sample_79.csv (deflated 96%)\n",
      "  adding: LD_h2_simulation/neg_gamma_original_genotypes_sample_7.csv (deflated 96%)\n",
      "  adding: LD_h2_simulation/neg_gamma_original_genotypes_sample_80.csv (deflated 96%)\n",
      "  adding: LD_h2_simulation/neg_gamma_original_genotypes_sample_81.csv (deflated 96%)\n",
      "  adding: LD_h2_simulation/neg_gamma_original_genotypes_sample_82.csv (deflated 96%)\n",
      "  adding: LD_h2_simulation/neg_gamma_original_genotypes_sample_83.csv (deflated 96%)\n",
      "  adding: LD_h2_simulation/neg_gamma_original_genotypes_sample_84.csv (deflated 96%)\n",
      "  adding: LD_h2_simulation/neg_gamma_original_genotypes_sample_85.csv (deflated 96%)\n",
      "  adding: LD_h2_simulation/neg_gamma_original_genotypes_sample_86.csv (deflated 96%)\n",
      "  adding: LD_h2_simulation/neg_gamma_original_genotypes_sample_87.csv (deflated 96%)\n",
      "  adding: LD_h2_simulation/neg_gamma_original_genotypes_sample_88.csv (deflated 96%)\n",
      "  adding: LD_h2_simulation/neg_gamma_original_genotypes_sample_89.csv (deflated 96%)\n",
      "  adding: LD_h2_simulation/neg_gamma_original_genotypes_sample_8.csv (deflated 96%)\n",
      "  adding: LD_h2_simulation/neg_gamma_original_genotypes_sample_90.csv (deflated 96%)\n",
      "  adding: LD_h2_simulation/neg_gamma_original_genotypes_sample_91.csv (deflated 96%)\n",
      "  adding: LD_h2_simulation/neg_gamma_original_genotypes_sample_92.csv (deflated 96%)\n",
      "  adding: LD_h2_simulation/neg_gamma_original_genotypes_sample_93.csv (deflated 96%)\n",
      "  adding: LD_h2_simulation/neg_gamma_original_genotypes_sample_94.csv (deflated 96%)\n",
      "  adding: LD_h2_simulation/neg_gamma_original_genotypes_sample_95.csv (deflated 96%)\n",
      "  adding: LD_h2_simulation/neg_gamma_original_genotypes_sample_96.csv (deflated 96%)\n",
      "  adding: LD_h2_simulation/neg_gamma_original_genotypes_sample_97.csv (deflated 96%)\n",
      "  adding: LD_h2_simulation/neg_gamma_original_genotypes_sample_98.csv (deflated 96%)\n",
      "  adding: LD_h2_simulation/neg_gamma_original_genotypes_sample_99.csv (deflated 96%)\n",
      "  adding: LD_h2_simulation/neg_gamma_original_genotypes_sample_9.csv (deflated 96%)\n"
     ]
    }
   ],
   "source": [
    "!zip -r LD_h2_simulation/neg_gamma_permuted_genotypes.zip LD_h2_simulation/neg_gamma_permuted_genotypes*\n",
    "!zip -r LD_h2_simulation/neg_gamma_original_genotypes.zip LD_h2_simulation/neg_gamma_original_genotypes*"
   ]
  },
  {
   "cell_type": "markdown",
   "id": "6fb4e4f8-77c3-4376-a4be-93d708b10b07",
   "metadata": {},
   "source": [
    "##### Simulated paired data"
   ]
  },
  {
   "cell_type": "code",
   "execution_count": 44,
   "id": "a494019e-dfdd-4fc9-801e-4bc5cb4cb066",
   "metadata": {
    "tags": []
   },
   "outputs": [],
   "source": [
    "for i in range(100):\n",
    "    \n",
    "    mut = sample_mut()\n",
    "\n",
    "    # random genotypes\n",
    "    G_perm = permute_rows_individually(G_RIL)\n",
    "    g = np.matmul(G_perm, mut)\n",
    "    \n",
    "    G_ex = np.matmul(A_RIL, G_perm)\n",
    "    g_ex = np.matmul(A_RIL, g)\n",
    "    \n",
    "    noise = np.random.normal(loc=0, scale=std, size=len(G_ex))\n",
    "    y = g_ex + noise\n",
    "\n",
    "    dat = np.append(G_ex, np.expand_dims(y, 1), axis=1)\n",
    "\n",
    "    dat = pd.DataFrame(dat)\n",
    "\n",
    "    dat.columns = ['x' + str(locus) for locus in list(S_RIL.columns)] + ['y']\n",
    "    \n",
    "    dat.insert(0, 'Line', line_RILs)  # Insert at position 0 (leftmost)\n",
    "    dat.insert(1, 'Replicate', reps)  # Insert at position 0 (leftmost)    \n",
    "\n",
    "    dat.to_csv(f\"LD_h2_simulation/neg_gamma_permuted_genotypes_sample_{i}.csv\", index=None)\n",
    "    \n",
    "    # original genotypes\n",
    "    \n",
    "    G_perm = G_RIL\n",
    "    g = np.matmul(G_perm, mut)\n",
    "    \n",
    "    G_ex = np.matmul(A_RIL, G_perm)\n",
    "    g_ex = np.matmul(A_RIL, g)\n",
    "    \n",
    "    noise = np.random.normal(loc=0, scale=std, size=len(G_ex))\n",
    "    y = g_ex + noise\n",
    "\n",
    "    dat = np.append(G_ex, np.expand_dims(y, 1), axis=1)\n",
    "\n",
    "    dat = pd.DataFrame(dat)\n",
    "\n",
    "    dat.columns = ['x' + str(locus) for locus in list(S_RIL.columns)] + ['y']\n",
    "    \n",
    "    dat.insert(0, 'Line', line_RILs)  # Insert at position 0 (leftmost)\n",
    "    dat.insert(1, 'Replicate', reps)  # Insert at position 0 (leftmost)    \n",
    "\n",
    "    dat.to_csv(f\"LD_h2_simulation/neg_gamma_original_genotypes_sample_{i}.csv\", index=None)    "
   ]
  },
  {
   "cell_type": "code",
   "execution_count": 20,
   "id": "08c9d673-a766-4a9a-8ad2-f38d566eebc2",
   "metadata": {
    "tags": []
   },
   "outputs": [],
   "source": [
    "!zip -r LD_h2_simulation/neg_gamma_permuted_genotypes.zip LD_h2_simulation/neg_gamma_permuted_genotypes*\n",
    "!zip -r LD_h2_simulation/neg_gamma_original_genotypes.zip LD_h2_simulation/neg_gamma_original_genotypes*"
   ]
  }
 ],
 "metadata": {
  "kernelspec": {
   "display_name": "fastai-2.7.10",
   "language": "python",
   "name": "fastai-2.7.10"
  },
  "language_info": {
   "codemirror_mode": {
    "name": "ipython",
    "version": 3
   },
   "file_extension": ".py",
   "mimetype": "text/x-python",
   "name": "python",
   "nbconvert_exporter": "python",
   "pygments_lexer": "ipython3",
   "version": "3.10.4"
  }
 },
 "nbformat": 4,
 "nbformat_minor": 5
}
