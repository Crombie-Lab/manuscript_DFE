{
 "cells": [
  {
   "cell_type": "code",
   "execution_count": 1,
   "id": "87100649-181b-4f71-8c2d-3f4b25d83eb5",
   "metadata": {
    "tags": []
   },
   "outputs": [
    {
     "name": "stderr",
     "output_type": "stream",
     "text": [
      "WARNING (pytensor.tensor.blas): Using NumPy C-API based implementation for BLAS functions.\n"
     ]
    },
    {
     "name": "stdout",
     "output_type": "stream",
     "text": [
      "Running on PyMC v5.6.0\n"
     ]
    }
   ],
   "source": [
    "import pandas as pd\n",
    "import numpy as np\n",
    "import matplotlib.pyplot as plt\n",
    "from scipy import sparse\n",
    "import pickle\n",
    "\n",
    "import arviz as az\n",
    "import matplotlib.pyplot as plt\n",
    "import numpy as np\n",
    "import pandas as pd\n",
    "import pymc as pm\n",
    "import xarray as xr\n",
    "import pickle\n",
    "from pymc import HalfCauchy, Model, Normal, sample\n",
    "print(f\"Running on PyMC v{pm.__version__}\")\n",
    "\n",
    "from scipy.stats import pearsonr"
   ]
  },
  {
   "cell_type": "code",
   "execution_count": 6,
   "id": "31b96924-215c-44e5-8d8b-4b738b88792a",
   "metadata": {
    "tags": []
   },
   "outputs": [
    {
     "name": "stdout",
     "output_type": "stream",
     "text": [
      "(3030, 176)\n",
      "(2757, 176)\n"
     ]
    }
   ],
   "source": [
    "data_all = pd.read_csv(\"Data/10pctimpx_forJZ.csv\")\n",
    "\n",
    "S_tensor = pd.read_csv(\"Data/Sampling_tensor.csv\", index_col=0, header=None)\n",
    "line_names = pd.Series(S_tensor.index)\n",
    "\n",
    "data = pd.read_csv(\"Data/10pctimpx_forJZ.csv\")\n",
    "print(data.shape)\n",
    "data = data[np.array(data['LineType'] == \"G0\")  | np.array(data['LineType'] == \"RIL\") | np.array(data['LineType'] == \"RIAIL\")]\n",
    "print(data.shape)\n",
    "num_nas = np.isnan(data.iloc[:, 7:].to_numpy()).sum(1)\n",
    "data = data[num_nas < 169] # filter all lines without genotype info\n",
    "geno_all = data.iloc[:, 7:].to_numpy()\n",
    "n, L = geno_all.shape"
   ]
  },
  {
   "cell_type": "code",
   "execution_count": 7,
   "id": "0a6defd7-4142-4515-9fe5-e96bd1cbd46d",
   "metadata": {
    "tags": []
   },
   "outputs": [
    {
     "data": {
      "text/plain": [
       "{'MA530', 'MA563'}"
      ]
     },
     "execution_count": 7,
     "metadata": {},
     "output_type": "execute_result"
    }
   ],
   "source": [
    "# rename lines\n",
    "par_dict = dict(zip(['G0', 'P530', 'P563'], line_names[:3]))\n",
    "Line_new = []\n",
    "for row in range(data.shape[0]):\n",
    "    linetype = data.iloc[row].LineType\n",
    "    line_num = data.iloc[row]['Linex']\n",
    "    if (linetype != \"RIL\")  and (linetype != \"RIAIL\" ):\n",
    "        Line_new.append(par_dict[linetype])\n",
    "    else:\n",
    "        if linetype == \"RIL\":\n",
    "            Line_new.append(linetype + \"_\" + str(line_num - 200))\n",
    "        else: Line_new.append(linetype + \"_\" + str(line_num))\n",
    "data.Linex = Line_new\n",
    "\n",
    "set(line_names).difference(set(data.Linex.unique())) ## Line names are the same in the genotype file and phenotype file"
   ]
  },
  {
   "cell_type": "code",
   "execution_count": 10,
   "id": "19ccf448-7162-44bd-b547-3d3281783271",
   "metadata": {
    "tags": []
   },
   "outputs": [
    {
     "data": {
      "image/png": "[encoded data removed]",
      "text/plain": [
       "<Figure size 432x288 with 1 Axes>"
      ]
     },
     "metadata": {
      "needs_background": "light"
     },
     "output_type": "display_data"
    }
   ],
   "source": [
    "# Generate sparse matrix A matrix for mapping geno to geno_expand\n",
    "from scipy.sparse import coo_matrix\n",
    "\n",
    "line2num = dict(zip(line_names, range(len(line_names))))\n",
    "row_idx, col_idx = np.arange(len(data)), np.array([line2num[line] for line in data.Linex])\n",
    "A = coo_matrix((np.ones(len(row_idx)), (row_idx, col_idx)))\n",
    "\n",
    "# Turn block to dummy variables\n",
    "data.block = data.block.astype(\"str\")\n",
    "block = pd.get_dummies(data.block).to_numpy()\n",
    "\n",
    "y = data.ln_ci\n",
    "y.hist()\n",
    "plt.show()"
   ]
  },
  {
   "cell_type": "code",
   "execution_count": 11,
   "id": "6058bad9-e09c-4fc0-821c-70c1e8b4bbb1",
   "metadata": {
    "tags": []
   },
   "outputs": [],
   "source": [
    "sub = np.array([line in Focal_linetypes for line in data.LineType]) | np.array(data.LineType == 'G0') # pick subset of genotypes in Focal_linetypes\n",
    "y = y[sub]\n",
    "A = A.toarray()\n",
    "A = A[sub]\n",
    "block = block[sub]"
   ]
  },
  {
   "cell_type": "code",
   "execution_count": 8,
   "id": "250bc555-e8c3-4af6-bf54-ce015e7226c8",
   "metadata": {
    "tags": []
   },
   "outputs": [],
   "source": [
    "import os\n",
    "results_path = \"Results/\"\n",
    "if not os.path.exists(results_path):\n",
    "    os.makedirs(results_path)"
   ]
  },
  {
   "cell_type": "markdown",
   "id": "4944503d-bbfd-457d-99e0-0b72dab73378",
   "metadata": {
    "tags": []
   },
   "source": [
    "### Get raw marginal effects of mutations"
   ]
  },
  {
   "cell_type": "markdown",
   "id": "01f95b9f-0e4b-445c-9175-ed250bc25ae1",
   "metadata": {
    "jp-MarkdownHeadingCollapsed": true,
    "tags": []
   },
   "source": [
    "#### Get marginal effecs for all linetypes\n"
   ]
  },
  {
   "cell_type": "code",
   "execution_count": 6,
   "id": "1962cc06-d3c6-49c9-b270-56491b8a8d38",
   "metadata": {
    "tags": []
   },
   "outputs": [],
   "source": [
    "linetypes = {'all', \"RIL\", \"RIAIL\"}"
   ]
  },
  {
   "cell_type": "code",
   "execution_count": 39,
   "id": "233fe933-5fe9-44cf-8c40-75cd5f92d4ea",
   "metadata": {
    "tags": []
   },
   "outputs": [],
   "source": [
    "marg_effects_linetypes = {}\n",
    "\n",
    "for linetype in linetypes:\n",
    "    marg_effects = {}\n",
    "\n",
    "    if linetype == 'all':\n",
    "        data_ = data\n",
    "    else:\n",
    "        data_ = data[data.LineType == linetype]\n",
    "    for i in range(1, 170):\n",
    "        data_mut = np.array(data_['ln_ci'][data_['x' + str(i)]==1.])\n",
    "        data_wt = np.array(data_['ln_ci'][data_['x' + str(i)]==0.])        \n",
    "        # data_wt = np.array(data_['ln_ci'][data_.LineType == 'G0'])    \n",
    "        boot_effects = [np.random.choice(data_mut, len(data_mut)).mean() - np.random.choice(data_wt, len(data_wt)).mean() \n",
    "                       for _ in range(100)]\n",
    "\n",
    "        marg_effects[i] = boot_effects\n",
    "    marg_effects_linetypes[linetype] = marg_effects"
   ]
  },
  {
   "cell_type": "code",
   "execution_count": 40,
   "id": "62f35411-7564-4b02-8a07-df077eb78693",
   "metadata": {
    "tags": []
   },
   "outputs": [],
   "source": [
    "marg_data_all = {}\n",
    "\n",
    "for linetype in linetypes:\n",
    "    marg_effects_samples = pd.DataFrame(marg_effects_linetypes[linetype])\n",
    "    marg_data = pd.DataFrame({'mean': marg_effects_samples.mean(), \n",
    "                              'CI2.5%': marg_effects_samples.quantile(.25), 'CI97.5%': marg_effects_samples.quantile(0.975)}) \n",
    "    if linetype == 'all':\n",
    "        name = 'RIL+RIAIL'\n",
    "    else: name = linetype\n",
    "    marg_data_all[name] = marg_data"
   ]
  },
  {
   "cell_type": "code",
   "execution_count": 42,
   "id": "d9666ca4-87e2-4cc9-9971-a5e7a3adf890",
   "metadata": {
    "tags": []
   },
   "outputs": [],
   "source": [
    "with open(results_path + \"marg_effects.pkl\", 'wb') as f:\n",
    "    pickle.dump(marg_data_all, f)\n",
    "\n",
    "for key in marg_data_all.keys():\n",
    "    df = marg_data_all[key]\n",
    "    if key == 'all':\n",
    "        name = 'RIL+RIAIL'\n",
    "    else: name = key\n",
    "    df.to_csv(results_path + \"Table_marg_effects_\" + name + \".csv\")"
   ]
  },
  {
   "cell_type": "markdown",
   "id": "a0c68a06-07e7-44a6-b384-3c769fb28b57",
   "metadata": {
    "jp-MarkdownHeadingCollapsed": true,
    "tags": []
   },
   "source": [
    "### Define models"
   ]
  },
  {
   "cell_type": "code",
   "execution_count": 10,
   "id": "149d3cf7-6536-4342-8fb8-59172f39966a",
   "metadata": {
    "tags": []
   },
   "outputs": [],
   "source": [
    "def define_models():\n",
    "    \n",
    "    global models\n",
    "    \n",
    "    with pm.Model() as model_flat:  \n",
    "        # Define priors\n",
    "        intercept = pm.Normal('intercept', mu=0, sigma=10)\n",
    "        std = pm.HalfNormal('std', sigma=10)\n",
    "\n",
    "        block_effects = pm.MvNormal('block_effects', mu=np.zeros(5), cov=np.eye(5), shape=L) # block effects\n",
    "\n",
    "        likelihood = Normal(\"y\", mu = intercept +\n",
    "                            pm.math.dot(block, block_effects), sigma=std, observed=y) # likelihood\n",
    "\n",
    "\n",
    "    with pm.Model() as model_unif:\n",
    "        # Define priors\n",
    "        intercept = pm.Normal('intercept', mu=0, sigma=10)\n",
    "        std = pm.HalfNormal('std', sigma=10)\n",
    "        mu = pm.Normal('mu', mu=0, sigma=10)\n",
    "\n",
    "        block_effects = pm.MvNormal('block_effects', mu=np.zeros(5), cov=np.eye(5), shape=L) # block effects\n",
    "\n",
    "        mut_counts = np.sum(geno_array, 1)\n",
    "        likelihood = Normal(\"likelihood\", \n",
    "                            mu=intercept \n",
    "                            + mu*mut_counts \n",
    "                            + pm.math.dot(block, block_effects), \n",
    "                            sigma=std, observed=y)    \n",
    "\n",
    "    with pm.Model() as model_neutral_unif:  \n",
    "        intercept = pm.Normal('intercept', mu=0, sigma=10)\n",
    "        std = pm.HalfNormal('std', sigma=10)\n",
    "        mu = pm.Normal('mu', sigma=10)\n",
    "        q = pm.Beta('p', alpha=2, beta=2) # probability of mutation being non-neutral\n",
    "\n",
    "        block_effects = pm.MvNormal('block_effects', mu=np.zeros(5), cov=np.eye(5), shape=L) # block effects\n",
    "\n",
    "        w = pm.Bernoulli('w', p=q, shape=L)\n",
    "\n",
    "        mut_effects = pm.Deterministic('mut_effects', mu*w)\n",
    "\n",
    "        mut_counts = np.sum(geno_array, 1)\n",
    "\n",
    "        likelihood = Normal(\"y\", \n",
    "                            mu=intercept\n",
    "                            + pm.math.dot(geno_array, mut_effects)\n",
    "                            + pm.math.dot(block, block_effects), \n",
    "                            sigma=std, observed=y)    \n",
    "\n",
    "    with pm.Model() as model_3_effects:  \n",
    "        # Define priors\n",
    "        intercept = pm.Normal('intercept', mu=0, sigma=10)\n",
    "        std = pm.HalfNormal('std', sigma=10)\n",
    "        mu1 = pm.HalfNormal('mu1', sigma=10)\n",
    "        mu2 = pm.HalfNormal('mu2', sigma=10)\n",
    "        q = pm.Beta('q', alpha=2, beta=2) # prob being non-neutral\n",
    "        p = pm.Beta('p', alpha=2, beta=2) # prob being positive\n",
    "\n",
    "        block_effects = pm.MvNormal('block_effects', mu=np.zeros(5), cov=np.eye(5), shape=L) # block effects\n",
    "\n",
    "        z = pm.Bernoulli('z', p=q, shape=L) # 0/1 vector if locus is neutral\n",
    "        w = pm.Bernoulli('w', p=p, shape=L) # 0/1 vector if locus is positive, conditional on being non-neutral    \n",
    "        beta = pm.Deterministic('beta', z*(mu1*w - mu2*(1-w))) # mutational effects\n",
    "\n",
    "        # Define likelihood\n",
    "        likelihood = Normal(\"y\", mu=intercept + pm.math.dot(geno_array, beta) + pm.math.dot(block, block_effects), sigma=std, observed=y)    \n",
    "\n",
    "    with pm.Model() as model_neg_gamma:\n",
    "        intercept = pm.Normal('intercept', mu=0, sigma=10) # genetic value of founder\n",
    "        std = pm.HalfNormal('std', sigma=10) # std of noise \n",
    "        block_effects = pm.MvNormal('block_effects', mu=np.zeros(5), cov=np.eye(5), shape=L) # block effects\n",
    "\n",
    "        # hyperparameters\n",
    "        alpha1 = pm.HalfNormal(\"alpha1\", sigma=10) #alpha param for negative DFE\n",
    "        beta1 = pm.HalfNormal(\"beta1\", sigma=10) #beta param for negative DFE\n",
    "\n",
    "        mut_effects = pm.Gamma(\"mut_effects\", alpha=alpha1, beta=beta1, shape=L) #vector of negative mutation effects\n",
    "        mut_effects_neg = pm.Deterministic(\"mut_effects_neg\", -1*mut_effects) # total mutational effect\n",
    "        likelihood = Normal(\"y\", \n",
    "                            mu=intercept \n",
    "                            + pm.math.dot(geno_array, mut_effects_neg) \n",
    "                            + pm.math.dot(block, block_effects)\n",
    "                            , sigma=std, observed=y)    \n",
    "\n",
    "\n",
    "    with pm.Model() as model_1_gamma:\n",
    "        intercept = pm.Normal('intercept', mu=0, sigma=10) # genetic value of founder\n",
    "        std = pm.HalfNormal('std', sigma=10) # std of noise \n",
    "        block_effects = pm.MvNormal('block_effects', mu=np.zeros(5), cov=np.eye(5), shape=L) # block effects\n",
    "\n",
    "        # hyperparameters\n",
    "        alpha1 = pm.HalfNormal(\"alpha1\", sigma=10) #alpha param for positive DFE\n",
    "        beta1 = pm.HalfNormal(\"beta1\", sigma=10) #beta param for positive DFE\n",
    "        p_pos = pm.Beta('p_pos', alpha=2, beta=2) # prob mutation being positive\n",
    "\n",
    "        mut_effects_pos = pm.Gamma(\"mut_effects_pos\", alpha=alpha1, beta=beta1, shape=L) #vector of positive mutation effects\n",
    "        mut_effects_neg = pm.Gamma(\"mut_effects_neg\", alpha=alpha1, beta=beta1, shape=L) #vector of negative mutation effects\n",
    "\n",
    "        mask_pos = pm.Bernoulli(\"mask_pos\", p=p_pos, shape=L) # mask for positive effects\n",
    "        mask_neg = pm.Deterministic(\"mask_neg\", mask_pos-1) # mask for negative effects    \n",
    "        mut_effects = pm.Deterministic(\"mut_effects\", mask_pos*mut_effects_pos + mask_neg*mut_effects_neg) # total mutational effect\n",
    "\n",
    "        likelihood = Normal(\"y\", \n",
    "                            mu=intercept \n",
    "                            + pm.math.dot(geno_array, mut_effects) \n",
    "                            + pm.math.dot(block, block_effects)\n",
    "                            , sigma=std, observed=y)    \n",
    "\n",
    "\n",
    "    with pm.Model() as model_2_gammas:\n",
    "        intercept = pm.Normal('intercept', mu=0, sigma=10) # genetic value of founder\n",
    "        std = pm.HalfNormal('std', sigma=10) # std of noise \n",
    "        block_effects = pm.MvNormal('block_effects', mu=np.zeros(5), cov=np.eye(5), shape=L) # block effects\n",
    "\n",
    "        # hyperparameters\n",
    "        alpha1 = pm.HalfNormal(\"alpha1\", sigma=10) #alpha param for positive DFE\n",
    "        beta1 = pm.HalfNormal(\"beta1\", sigma=10) #beta param for positive DFE\n",
    "        alpha2 = pm.HalfNormal(\"alpha2\", sigma=10) #alpha param for negative DFE\n",
    "        beta2 = pm.HalfNormal(\"beta2\", sigma=10) #beta param for negative DFE\n",
    "        p_pos = pm.Beta('p_pos', alpha=2, beta=2) # prob mutation being positive\n",
    "\n",
    "        mut_effects_pos = pm.Gamma(\"mut_effects_pos\", alpha=alpha1, beta=beta1, shape=L) #vector of positive mutation effects\n",
    "        mut_effects_neg = pm.Gamma(\"mut_effects_neg\", alpha=alpha2, beta=beta2, shape=L) #vector of negative mutation effects\n",
    "\n",
    "        mask_pos = pm.Bernoulli(\"mask_pos\", p=p_pos, shape=L) # mask for positive effects\n",
    "        mask_neg = pm.Deterministic(\"mask_neg\", mask_pos-1) # mask for negative effects    \n",
    "        mut_effects = pm.Deterministic(\"mut_effects\", mask_pos*mut_effects_pos + mask_neg*mut_effects_neg) # total mutational effect\n",
    "\n",
    "        likelihood = Normal(\"y\", \n",
    "                            mu=intercept \n",
    "                            + pm.math.dot(geno_array, mut_effects) \n",
    "                            + pm.math.dot(block, block_effects)\n",
    "                            , sigma=std, observed=y) # likelihood\n",
    "\n",
    "    models = {\"flat\": model_flat, \"unif\": model_unif, \"neu_unif\": model_neutral_unif, \n",
    "              \"3_effects\": model_3_effects, \"neg_gamma\": model_neg_gamma,\n",
    "              \"1_gamma\": model_1_gamma, \"2_gammas\": model_2_gammas}    "
   ]
  },
  {
   "cell_type": "markdown",
   "id": "6f827116-756a-40a5-8b0e-900ddf9d36d5",
   "metadata": {
    "tags": []
   },
   "source": [
    "### Process samples"
   ]
  },
  {
   "cell_type": "code",
   "execution_count": 24,
   "id": "253a8b4e-ca48-488b-a320-dcf03e26784b",
   "metadata": {
    "tags": []
   },
   "outputs": [],
   "source": [
    "models_test = {\"flat\", \"unif\", \"neg_gamma\", \"neu_unif\", \"3_effects\", \"1_gamma\", \"2_gammas\"}"
   ]
  },
  {
   "cell_type": "code",
   "execution_count": 25,
   "id": "4eb6924f-678c-4f12-a77b-ce8e1afd02d6",
   "metadata": {
    "tags": []
   },
   "outputs": [],
   "source": [
    "n_geno_reps = 40\n",
    "samples = range(n_geno_reps)"
   ]
  },
  {
   "cell_type": "code",
   "execution_count": 1,
   "id": "576c713a-a9f8-4cc5-96ce-8ed97de81ed8",
   "metadata": {
    "tags": []
   },
   "outputs": [],
   "source": [
    "# Define paths for output files for RIL + RIAIL, RIL, RIAIL\n",
    "paths = {\"all\": \"ALL/\", \"RIL\": \"RIL/\", \"RIAIL\": \"RIAIL/\"}"
   ]
  },
  {
   "cell_type": "code",
   "execution_count": 2,
   "id": "7798e55d-bdb8-4b52-b237-298eda6bb152",
   "metadata": {
    "tags": []
   },
   "outputs": [],
   "source": [
    "traces_all = {}\n",
    "loo_all = {}"
   ]
  },
  {
   "cell_type": "markdown",
   "id": "616198e1-4c59-48c2-b963-f4fd71ee1b12",
   "metadata": {
    "tags": []
   },
   "source": [
    "#### Load traces"
   ]
  },
  {
   "cell_type": "code",
   "execution_count": null,
   "id": "7d593aa5-64e4-4e37-943d-9d724fa0bd19",
   "metadata": {
    "tags": []
   },
   "outputs": [],
   "source": [
    "for linetype in list(paths.keys()):\n",
    "\n",
    "    A = coo_matrix((np.ones(len(row_idx)), (row_idx, col_idx)))\n",
    "    block = pd.get_dummies(data.block).to_numpy()\n",
    "    y = data.ln_ci\n",
    "    \n",
    "    if linetype == \"all\":\n",
    "        pass\n",
    "\n",
    "    else: \n",
    "        sub = (data.LineType == linetype) | (data.LineType == \"G0\")\n",
    "        y = y[sub]\n",
    "        A = A.toarray()\n",
    "        A = A[sub]\n",
    "        block = block[sub]\n",
    "\n",
    "    traces = {model: {} for model in models_test}\n",
    "\n",
    "    sample_path = \"Samples/\" + paths[linetype]\n",
    "    for i in range(n_geno_reps):\n",
    "        for model in models_test:\n",
    "            trace_name = \"_\".join(['traces', model, str(i)])\n",
    "            with open(sample_path + trace_name +  '.pkl', 'rb') as file:  \n",
    "                trace = pickle.load(file)\n",
    "                traces[model][i] = trace\n",
    "\n",
    "    traces_all[linetype] = traces"
   ]
  },
  {
   "cell_type": "markdown",
   "id": "33e53de9-38ad-4084-8c8d-73ac345a36b3",
   "metadata": {
    "tags": []
   },
   "source": [
    "#### Generate posterior table"
   ]
  },
  {
   "cell_type": "code",
   "execution_count": 18,
   "id": "abb4dfbd-02ac-4efe-8c6e-9a5fd615fd65",
   "metadata": {
    "tags": []
   },
   "outputs": [],
   "source": [
    "def get_pos(dat):\n",
    "    dat = dat.data.flatten()\n",
    "    r = np.array([dat.mean(), np.quantile(dat, .025),  np.quantile(dat, .975)])\n",
    "    r = np.round(r, 4)\n",
    "    return str(r[0]) + \" (\" + str(r[1]) + \",\" + str(r[2]) + \")\""
   ]
  },
  {
   "cell_type": "code",
   "execution_count": 19,
   "id": "36500467-2f48-4b19-a218-af3a1bb6b1d4",
   "metadata": {
    "tags": []
   },
   "outputs": [],
   "source": [
    "model_names_dict = {\n",
    "\"1_gamma\": \"Symmetric gamma\", \n",
    "\"2_gammas\": \"Asymmetric gamma\", \n",
    "\"3_effects\": \"3 effects\", \n",
    "\"neg_gamma\": \"Negative gamma\", \n",
    "\"neu_unif\": \"Neutral + uniform\", \n",
    "\"unif\": \"Uniform\", \n",
    "\"flat\": \"Neutral\"\n",
    "}"
   ]
  },
  {
   "cell_type": "code",
   "execution_count": 7,
   "id": "8b9e82b4-2778-4878-a4b4-1ed34d2f8102",
   "metadata": {
    "tags": []
   },
   "outputs": [],
   "source": [
    "models_test = list(models_test)\n",
    "\n",
    "gamma_names = {'alpha1': 'alpha_pos', 'alpha2': 'alpha_neg', 'beta1': 'beta_pos', 'beta2': 'beta_neg'}\n",
    "\n",
    "mu_names = {\"mu\": \"u\", \"mu1\": \"u_pos\", \"mu2\": \"u_neg\"}\n",
    "\n",
    "p = 'mu1'"
   ]
  },
  {
   "cell_type": "code",
   "execution_count": 26,
   "id": "cc995525-edb3-418f-ae07-67c6e1b2db52",
   "metadata": {
    "tags": []
   },
   "outputs": [],
   "source": [
    "linetype = 'all'\n",
    "pos_results = {}\n",
    "\n",
    "for model in models_test:\n",
    "    results_model = {}\n",
    "    for linetype in linetypes:\n",
    "        traces = az.concat(list(traces_all[linetype][model].values()), dim='draw')\n",
    "        results = {}\n",
    "        for p in traces['posterior'].keys():\n",
    "                trace_p = traces['posterior'][p]\n",
    "                if len(trace_p.shape) > 2:\n",
    "                    if 'beta' in p:\n",
    "                            pass\n",
    "                    elif 'mut' in p:\n",
    "                            pass\n",
    "                    elif 'mask' in p:\n",
    "                            pass\n",
    "                    elif 'z' in p:\n",
    "                            pass\n",
    "                    elif 'w' in p:\n",
    "                            pass\n",
    "\n",
    "                    else:\n",
    "                        for i in range(trace_p.shape[-1]):\n",
    "                            r = get_pos(trace_p[:, :, i])\n",
    "                            para_name = \"_\".join([p, str(i)])\n",
    "                            results[para_name] = r\n",
    "                else:\n",
    "                    r = get_pos(trace_p)\n",
    "                    \n",
    "                    if p in mu_names.keys():\n",
    "                        para_name = mu_names[p]\n",
    "\n",
    "                    else:\n",
    "                        if model == \"neu_unif\":\n",
    "                            if p == 'p':\n",
    "                                para_name = 'q'\n",
    "                            else: para_name = p\n",
    "\n",
    "                        else:\n",
    "                            if p == 'p':\n",
    "                                para_name = 'p_pos'\n",
    "                            elif p in gamma_names.keys():\n",
    "                                para_name = gamma_names[p]\n",
    "                            else: para_name = p\n",
    "                        \n",
    "                    results[para_name] = r\n",
    "                    \n",
    "        if linetype == 'all':\n",
    "            linetype_name = \"RIL + RIAIL\"\n",
    "        else: linetype_name = linetype\n",
    "                    \n",
    "        results_model[linetype_name] = results\n",
    "\n",
    "        pos_results[model_names_dict[model]] = results_model"
   ]
  },
  {
   "cell_type": "code",
   "execution_count": 311,
   "id": "78cc9e50-f43d-4a65-a193-b4f13c59c911",
   "metadata": {
    "tags": []
   },
   "outputs": [],
   "source": [
    "excel_file_path = results_path + 'posteriors.xlsx'\n",
    "\n",
    "with pd.ExcelWriter(excel_file_path) as writer:\n",
    "\n",
    "    for model in pos_results.keys():\n",
    "        df = pd.DataFrame(pos_results[model])\n",
    "        df.to_excel(writer, sheet_name=model)"
   ]
  },
  {
   "cell_type": "markdown",
   "id": "c649e7c7-ab38-4e3b-80c8-122cf320f720",
   "metadata": {
    "tags": []
   },
   "source": [
    "#### Load genotype samples"
   ]
  },
  {
   "cell_type": "code",
   "execution_count": null,
   "id": "d9950c75-8206-4448-9904-23a6fd69c4ef",
   "metadata": {
    "tags": []
   },
   "outputs": [],
   "source": [
    "geno_arrays_all = {}\n",
    "\n",
    "for linetype in list(paths.keys()):\n",
    "    \n",
    "    geno_arrays = {}\n",
    "\n",
    "    A = coo_matrix((np.ones(len(row_idx)), (row_idx, col_idx)))\n",
    "    block = pd.get_dummies(data.block).to_numpy()\n",
    "    y = data.ln_ci\n",
    "    \n",
    "    if linetype == \"all\":\n",
    "        pass\n",
    "\n",
    "    else: \n",
    "        sub = (data.LineType == linetype) | (data.LineType == \"G0\")\n",
    "        y = y[sub]\n",
    "        A = A.toarray()\n",
    "        A = A[sub]\n",
    "        block = block[sub]\n",
    "\n",
    "    traces = {model: {} for model in models_test}\n",
    "\n",
    "    sample_path = \"Samples/\" + paths[linetype]\n",
    "    for i in range(n_geno_reps):\n",
    "        geno_name = \"_\".join(['geno_sample', str(samples[i])])\n",
    "        with open(sample_path +  geno_name + '.pkl', 'rb') as file:  \n",
    "            geno_array = pickle.load(file)\n",
    "        \n",
    "        geno_arrays[i] = geno_array\n",
    "                \n",
    "    geno_arrays_all[linetype] = geno_arrays"
   ]
  },
  {
   "cell_type": "markdown",
   "id": "c725c3e9-e643-4a79-85fd-1ef7dd18d4d6",
   "metadata": {
    "tags": []
   },
   "source": [
    "#### Calculate LOO"
   ]
  },
  {
   "cell_type": "code",
   "execution_count": null,
   "id": "5e55d983-7295-4557-93eb-57b32e96d10c",
   "metadata": {
    "tags": []
   },
   "outputs": [],
   "source": [
    "for linetype in list(paths.keys())[1:]:\n",
    "\n",
    "    A = coo_matrix((np.ones(len(row_idx)), (row_idx, col_idx)))\n",
    "    block = pd.get_dummies(data.block).to_numpy()\n",
    "    y = data.ln_ci\n",
    "    \n",
    "    if linetype == \"all\":\n",
    "        pass\n",
    "\n",
    "    else:\n",
    "        sub = (data.LineType == linetype) | (data.LineType == \"G0\")\n",
    "        y = y[sub]\n",
    "        A = A.toarray()\n",
    "        A = A[sub]\n",
    "        block = block[sub]\n",
    "\n",
    "    df_loo = pd.DataFrame(columns=list(models_test), index=range(len(samples)))\n",
    "    for i in samples:\n",
    "        geno_array = geno_arrays_all[linetype][i]\n",
    "        define_models()\n",
    "\n",
    "        for model in models_test: \n",
    "            with models[model]:\n",
    "                pm.compute_log_likelihood(traces_all[linetype][model][i])\n",
    "\n",
    "            df_loo[model][i] = az.loo(traces_all[linetype][model][i]).elpd_loo\n",
    "    df_loo.to_csv(results_path + \"loo_sum_\" + linetype + \".csv\")  \n",
    "    loo_all[linetype] = df_loo"
   ]
  },
  {
   "cell_type": "code",
   "execution_count": null,
   "id": "7d77e53e-0838-4002-894c-4e3384a915b5",
   "metadata": {
    "tags": []
   },
   "outputs": [],
   "source": [
    "loo_sum = {}\n",
    "\n",
    "for linetype in list(paths.keys()):\n",
    "    loo_df = pd.read_csv(results_path + \"loo_sum_\" + linetype + \".csv\", index_col = 0)\n",
    "    loo_df.mean\n",
    "    loo_sum[linetype] = loo_df.mean()\n",
    "    loo_sum[linetype + \"_Delta\"] = loo_df.mean() - loo_df.mean().max()"
   ]
  },
  {
   "cell_type": "code",
   "execution_count": null,
   "id": "18a5a966-febe-4587-a010-c682e93e5e3c",
   "metadata": {
    "tags": []
   },
   "outputs": [],
   "source": [
    "loo_sum = pd.DataFrame(loo_sum)"
   ]
  },
  {
   "cell_type": "code",
   "execution_count": null,
   "id": "b0368e3d-592b-4f45-b891-64a79ad6902b",
   "metadata": {
    "tags": []
   },
   "outputs": [],
   "source": [
    "loo_sum = loo_sum.sort_values(by = 'all', ascending=True)"
   ]
  },
  {
   "cell_type": "code",
   "execution_count": null,
   "id": "e4477437-f059-4ee6-88e9-65da8032d83c",
   "metadata": {
    "tags": []
   },
   "outputs": [],
   "source": [
    "old_names = list(loo_sum.index)\n",
    "new_names = [\"Neutral\", \"Uniform\", \"Neutral + uniform\", \"Negative gamma\", \n",
    "             \"3 effects\", \"Asymmetric gamma\", \"Symmetric gamma\"]"
   ]
  },
  {
   "cell_type": "code",
   "execution_count": null,
   "id": "dd60f871-e5c1-42d1-bd0c-98dbef7b4990",
   "metadata": {
    "tags": []
   },
   "outputs": [],
   "source": [
    "new_index_names = dict(zip(old_names, new_names))\n",
    "loo_sum = loo_sum.rename(index=new_index_names)"
   ]
  },
  {
   "cell_type": "code",
   "execution_count": null,
   "id": "616788f2-538a-4e8e-9c20-af84f3ec3404",
   "metadata": {
    "tags": []
   },
   "outputs": [],
   "source": [
    "loo_sum.sort_values(by = 'all', ascending=False).round(1).to_csv(results_path + \"ELPD_LOO.csv\")"
   ]
  },
  {
   "cell_type": "markdown",
   "id": "c6e90d76-7522-4a7a-892f-9921429f4cc4",
   "metadata": {
    "tags": []
   },
   "source": [
    "#### Posterior means of parents"
   ]
  },
  {
   "cell_type": "code",
   "execution_count": 125,
   "id": "875e17e6-bc20-44bb-bdcf-04b75cf03a03",
   "metadata": {
    "tags": []
   },
   "outputs": [],
   "source": [
    "traces_SG = az.concat(list(traces_all['RIAIL']['2_gammas'].values()), dim='draw')"
   ]
  },
  {
   "cell_type": "code",
   "execution_count": 127,
   "id": "5daa161a-86d4-4c7d-bd3b-4bb67a11b5b6",
   "metadata": {
    "tags": []
   },
   "outputs": [],
   "source": [
    "mut_pos = traces_SG['posterior']['mut_effects'].data.reshape(-1, 169)"
   ]
  },
  {
   "cell_type": "code",
   "execution_count": 128,
   "id": "5c277a18-0044-4efb-9791-69a745e4523f",
   "metadata": {
    "tags": []
   },
   "outputs": [],
   "source": [
    "MA530_pos = np.matmul(mut_pos, np.array(S_tensor.T['MA530'])) + intercept_pos"
   ]
  },
  {
   "cell_type": "code",
   "execution_count": 129,
   "id": "57a6cdf0-20f7-409e-bfc4-2f07f0e099f2",
   "metadata": {
    "tags": []
   },
   "outputs": [],
   "source": [
    "MA563_pos = np.matmul(mut_pos, np.array(S_tensor.T['MA563'])) + intercept_pos"
   ]
  },
  {
   "cell_type": "code",
   "execution_count": 130,
   "id": "e4f2d94d-f6e0-49ca-a918-7bee63130aa8",
   "metadata": {
    "tags": []
   },
   "outputs": [
    {
     "name": "stdout",
     "output_type": "stream",
     "text": [
      "0.11293639362676616\n",
      "-0.8452970667235561\n"
     ]
    }
   ],
   "source": [
    "print(MA530_pos.mean())\n",
    "print(MA563_pos.mean())"
   ]
  },
  {
   "cell_type": "code",
   "execution_count": 131,
   "id": "3028ba0f-11c7-4e58-8ec1-28bc3d5c0f68",
   "metadata": {
    "tags": []
   },
   "outputs": [
    {
     "data": {
      "image/png": "[encoded data removed]",
      "text/plain": [
       "<Figure size 432x288 with 1 Axes>"
      ]
     },
     "metadata": {
      "needs_background": "light"
     },
     "output_type": "display_data"
    },
    {
     "data": {
      "image/png": "[encoded data removed]",
      "text/plain": [
       "<Figure size 432x288 with 1 Axes>"
      ]
     },
     "metadata": {
      "needs_background": "light"
     },
     "output_type": "display_data"
    }
   ],
   "source": [
    "plt.hist(MA530_pos)\n",
    "plt.show()\n",
    "\n",
    "plt.hist(MA563_pos)\n",
    "plt.show()"
   ]
  },
  {
   "cell_type": "code",
   "execution_count": 132,
   "id": "d5cdfd30-e866-4748-83a0-e39bf6852d82",
   "metadata": {
    "tags": []
   },
   "outputs": [
    {
     "data": {
      "text/plain": [
       "0.2016743158646616"
      ]
     },
     "execution_count": 132,
     "metadata": {},
     "output_type": "execute_result"
    }
   ],
   "source": [
    "data_all[data_all.LineType == 'P530']['ln_ci'].mean()"
   ]
  },
  {
   "cell_type": "code",
   "execution_count": 133,
   "id": "f5a4419c-d74a-4554-8b74-1399ce6370a8",
   "metadata": {
    "tags": []
   },
   "outputs": [
    {
     "data": {
      "text/plain": [
       "-0.8935975878357144"
      ]
     },
     "execution_count": 133,
     "metadata": {},
     "output_type": "execute_result"
    }
   ],
   "source": [
    "data_all[data_all.LineType == 'P563']['ln_ci'].mean()"
   ]
  },
  {
   "cell_type": "markdown",
   "id": "cc0e48d3-775e-461a-9d7a-7ae9f349a8e9",
   "metadata": {
    "tags": []
   },
   "source": [
    "#### Posterior mutation effects"
   ]
  },
  {
   "cell_type": "code",
   "execution_count": 30,
   "id": "18da953a-5471-4482-93ca-74f4a696bd51",
   "metadata": {
    "tags": []
   },
   "outputs": [],
   "source": [
    "#### Export mutation traces\n",
    "\n",
    "mut_traces_all = {}\n",
    "\n",
    "for linetype in paths.keys():\n",
    "    traces_SG = az.concat(list(traces_all[linetype]['1_gamma'].values()), dim='draw')\n",
    "    mut_traces = traces_SG.posterior['mut_effects'].data\n",
    "    mut_traces = mut_traces.reshape(-1, 169)\n",
    "    mut_traces_all[linetype] = mut_traces\n",
    "\n",
    "with open(results_path + \"traces_geno_mut.pkl\", 'wb') as f:\n",
    "    pickle.dump(mut_traces_all, f)"
   ]
  },
  {
   "cell_type": "code",
   "execution_count": 31,
   "id": "67d9ba50-16d9-4c43-a87d-f0a8a42621e5",
   "metadata": {
    "tags": []
   },
   "outputs": [],
   "source": [
    "mut_data_all = {}\n",
    "for linetype in paths.keys():\n",
    "    traces_SG = az.concat(list(traces_all[linetype]['1_gamma'].values()), dim='draw')\n",
    "    mut_traces = traces_SG.posterior['mut_effects'].data\n",
    "    plotdata = pd.DataFrame({'mean': np.mean(mut_traces.reshape(-1, 169), 0), \n",
    "                            'CI2.5%': np.quantile(mut_traces.reshape(-1, 169), .025, 0), \n",
    "                            'CI97.5': np.quantile(mut_traces.reshape(-1, 169), .975, 0), \n",
    "                            'std': np.std(mut_traces.reshape(-1, 169), 0)})    \n",
    "    plotdata = plotdata.rename(dict(zip(range(L), range(1, L + 1))))\n",
    "    plotdata = plotdata.rename_axis('Locus')\n",
    "    \n",
    "    mut_data_all[linetype] = plotdata"
   ]
  },
  {
   "cell_type": "code",
   "execution_count": 224,
   "id": "17747b3d-69e5-46d2-8c69-bed0d9303128",
   "metadata": {
    "tags": []
   },
   "outputs": [],
   "source": [
    "with open(results_path + \"mut_effects.pkl\", 'wb') as f:\n",
    "    pickle.dump(mut_data_all, f)\n",
    "\n",
    "for key in mut_data_all.keys():\n",
    "    df = mut_data_all[key]\n",
    "    if key == 'all':\n",
    "        name = 'RIL+RIAIL'\n",
    "    else: name = key\n",
    "    df.to_csv(results_path + \"Table_posterior_mutation_effects_\" + name + \".csv\")"
   ]
  }
 ],
 "metadata": {
  "kernelspec": {
   "display_name": "fastai-2.7.10",
   "language": "python",
   "name": "fastai-2.7.10"
  },
  "language_info": {
   "codemirror_mode": {
    "name": "ipython",
    "version": 3
   },
   "file_extension": ".py",
   "mimetype": "text/x-python",
   "name": "python",
   "nbconvert_exporter": "python",
   "pygments_lexer": "ipython3",
   "version": "3.10.4"
  }
 },
 "nbformat": 4,
 "nbformat_minor": 5
}
